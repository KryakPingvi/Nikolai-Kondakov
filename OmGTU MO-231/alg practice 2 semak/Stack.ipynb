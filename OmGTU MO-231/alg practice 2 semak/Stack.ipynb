{
 "cells": [
  {
   "cell_type": "markdown",
   "metadata": {},
   "source": [
    "Special for Gleb\n",
    "Задачка по проге\n",
    "Задача на стек\n",
    "1) имеется выражение содержащее три вида скобок, необходимо определить правильно ли расставлены скобки\n",
    ")( - неправильно\n",
    "{(...}) - неправильно\n",
    "Использовать только один стек\n",
    "2) имеется выражение\n",
    "например (а+ б) *3\n",
    "Сначала преобразовать его(НЕ ПРОГРАММОЙ, А РУКАМИ) построив из него обратную польскую запись.\n",
    "Дальше пишете программу, которая на основе введенной польской записи выполняет вычисления.\n",
    "Ограничения: используете для получения результата только один стек.\n",
    "Предусмотреть: Деление на ноль, Отсутствие элемента для произведения вычисления, Проверка на однозначность результата (например 333+ (получается три и шесть, это не однозначный результат (одно сложение на три числа)))\n",
    "Польская запись — Википедия\n",
    "https://ru.m.wikipedia.org/wiki/%D0%9F%D0%BE%D0%BB%D1%8C%D1%81%D0%BA%D0%B0%D1%8F_%D0%B7%D0%B0%D0%BF%D0%B8%D1%81%D1%8C"
   ]
  },
  {
   "cell_type": "code",
   "execution_count": 24,
   "metadata": {
    "dotnet_interactive": {
     "language": "csharp"
    },
    "polyglot_notebook": {
     "kernelName": "csharp"
    }
   },
   "outputs": [],
   "source": [
    "bool IsNormal(string s) //правильно ли расставлены скобки в строке s\n",
    "{\n",
    "    Stack<char> stack = new Stack<char>();\n",
    "    string skobki_nach = \"([{\";\n",
    "    string skobki_konech = \")]}\";\n",
    "    foreach (char i in s)\n",
    "    {\n",
    "        if (skobki_nach.IndexOf(i) != -1)\n",
    "        {\n",
    "            stack.Push(i);\n",
    "        }\n",
    "        else if (skobki_konech.IndexOf(i) != -1)\n",
    "        {\n",
    "            if (i == ')')\n",
    "            {\n",
    "                if (stack.Peek() == '(') stack.Pop();\n",
    "                else return false;\n",
    "            }\n",
    "            if (i == ']')\n",
    "            {\n",
    "                if (stack.Peek() == '[') stack.Pop();\n",
    "                else return false;\n",
    "            }\n",
    "            if (i == '}')\n",
    "            {\n",
    "                if (stack.Peek() == '{') stack.Pop();\n",
    "                else return false;\n",
    "            }\n",
    "        }\n",
    "    }\n",
    "    if (stack.Count()==0) return true;\n",
    "    else return false;\n",
    "}"
   ]
  },
  {
   "cell_type": "code",
   "execution_count": 28,
   "metadata": {
    "dotnet_interactive": {
     "language": "csharp"
    },
    "polyglot_notebook": {
     "kernelName": "csharp"
    }
   },
   "outputs": [
    {
     "data": {
      "text/html": [
       "<div class=\"dni-plaintext\"><pre>True</pre></div><style>\r\n",
       ".dni-code-hint {\r\n",
       "    font-style: italic;\r\n",
       "    overflow: hidden;\r\n",
       "    white-space: nowrap;\r\n",
       "}\r\n",
       ".dni-treeview {\r\n",
       "    white-space: nowrap;\r\n",
       "}\r\n",
       ".dni-treeview td {\r\n",
       "    vertical-align: top;\r\n",
       "    text-align: start;\r\n",
       "}\r\n",
       "details.dni-treeview {\r\n",
       "    padding-left: 1em;\r\n",
       "}\r\n",
       "table td {\r\n",
       "    text-align: start;\r\n",
       "}\r\n",
       "table tr { \r\n",
       "    vertical-align: top; \r\n",
       "    margin: 0em 0px;\r\n",
       "}\r\n",
       "table tr td pre \r\n",
       "{ \r\n",
       "    vertical-align: top !important; \r\n",
       "    margin: 0em 0px !important;\r\n",
       "} \r\n",
       "table th {\r\n",
       "    text-align: start;\r\n",
       "}\r\n",
       "</style>"
      ]
     },
     "metadata": {},
     "output_type": "display_data"
    }
   ],
   "source": [
    "string s = \"(abc{}av[vs])\";\n",
    "IsNormal(s)"
   ]
  },
  {
   "cell_type": "code",
   "execution_count": 1,
   "metadata": {
    "dotnet_interactive": {
     "language": "csharp"
    },
    "polyglot_notebook": {
     "kernelName": "csharp"
    }
   },
   "outputs": [],
   "source": [
    "public int Operations(char oper, int a, int b)\n",
    "{\n",
    "    switch (oper)\n",
    "    {\n",
    "        case '+':\n",
    "        return a + b;\n",
    "        case '-':\n",
    "        return a-b;\n",
    "        case '*':\n",
    "        return a*b;\n",
    "        case '/':\n",
    "        return a/b;\n",
    "    }\n",
    "    return 0;\n",
    "}\n",
    "public int Polskaya(string s) \n",
    "{\n",
    "    string[] sarr = s.Split(' ');\n",
    "    Stack<int> stack = new Stack<int>();\n",
    "    char[] operands = {'+', '-', '*', '/'};\n",
    "    foreach (string ZZZ in sarr)\n",
    "    {\n",
    "        if (Array.IndexOf(operands, ZZZ[0]) == -1) //не нашлось операнда, ZZZ - число\n",
    "        {\n",
    "            stack.Push(Convert.ToInt32(ZZZ));\n",
    "        }\n",
    "        else\n",
    "        {\n",
    "            int a1 = stack.Pop();\n",
    "            int a2 = stack.Pop();\n",
    "            if (ZZZ[0] == '/' && a2==0)\n",
    "            {\n",
    "                throw new Exception(\"Деление на 0\");\n",
    "            }\n",
    "            stack.Push(Operations(ZZZ[0],a2,a1));\n",
    "        }\n",
    "    } \n",
    "    return stack.Pop();\n",
    "}"
   ]
  },
  {
   "cell_type": "code",
   "execution_count": 4,
   "metadata": {
    "dotnet_interactive": {
     "language": "csharp"
    },
    "polyglot_notebook": {
     "kernelName": "csharp"
    }
   },
   "outputs": [
    {
     "name": "stdout",
     "output_type": "stream",
     "text": [
      "12\r\n"
     ]
    }
   ],
   "source": [
    "string s = \"7 2 / 4 *\";\n",
    "Console.WriteLine(Polskaya(s));"
   ]
  }
 ],
 "metadata": {
  "kernelspec": {
   "display_name": ".NET (C#)",
   "language": "C#",
   "name": ".net-csharp"
  },
  "language_info": {
   "name": "polyglot-notebook"
  },
  "polyglot_notebook": {
   "kernelInfo": {
    "defaultKernelName": "csharp",
    "items": [
     {
      "aliases": [],
      "languageName": "csharp",
      "name": "csharp"
     }
    ]
   }
  }
 },
 "nbformat": 4,
 "nbformat_minor": 2
}
