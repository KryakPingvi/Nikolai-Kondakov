{
 "cells": [
  {
   "cell_type": "code",
   "execution_count": 3,
   "metadata": {
    "dotnet_interactive": {
     "language": "value"
    },
    "polyglot_notebook": {
     "kernelName": "value"
    }
   },
   "outputs": [],
   "source": [
    "ArrayList:   Count, BinSearch, Copy, IndexOf, Insert, Reverse, Sort, Add"
   ]
  },
  {
   "cell_type": "code",
   "execution_count": 8,
   "metadata": {
    "dotnet_interactive": {
     "language": "csharp"
    },
    "polyglot_notebook": {
     "kernelName": "csharp"
    }
   },
   "outputs": [],
   "source": [
    "//все мои методы\n",
    "public static void PrintArray( ArrayList vals)  {\n",
    "      for ( int i = 0; i < vals.Count; i++ )  { //Count - кол во элементов\n",
    "         Console.WriteLine(vals[i]);\n",
    "      }\n",
    "      Console.WriteLine();\n",
    "}\n",
    "public static void PrintArray( int[] vals)  {\n",
    "      for ( int i = 0; i < vals.Length; i++ )  { //Count - кол во элементов\n",
    "         Console.WriteLine(vals[i]);\n",
    "      }\n",
    "      Console.WriteLine();\n",
    "}\n"
   ]
  },
  {
   "cell_type": "code",
   "execution_count": 31,
   "metadata": {
    "dotnet_interactive": {
     "language": "csharp"
    },
    "polyglot_notebook": {
     "kernelName": "csharp"
    }
   },
   "outputs": [
    {
     "name": "stdout",
     "output_type": "stream",
     "text": [
      "Count: 3\n",
      "-1\n"
     ]
    }
   ],
   "source": [
    "ArrayList names = new ArrayList();\n",
    "names.Add(\"Kolya\");\n",
    "names.Add(3);\n",
    "names.Add(true); //можно добавлять значения разных типов данных, но arraylist обладает плохой производительностью\n",
    "PrintArray(names);\n",
    "Console.WriteLine(\"Count: \" + names.Count); \n",
    "Console.WriteLine(vals.IndexOf(\"Kolya\")); //с разными типами элементов не работает"
   ]
  },
  {
   "cell_type": "code",
   "execution_count": 34,
   "metadata": {
    "dotnet_interactive": {
     "language": "csharp"
    },
    "polyglot_notebook": {
     "kernelName": "csharp"
    }
   },
   "outputs": [
    {
     "name": "stdout",
     "output_type": "stream",
     "text": [
      "1\n",
      "1\n",
      "2\n",
      "3\n",
      "4\n",
      "4\n",
      "5\n",
      "5\n",
      "5\n",
      "5\n",
      "5\n",
      "5\n",
      "5\n",
      "5\n",
      "5\n",
      "7\n",
      "7\n",
      "\n",
      "15\n",
      "-18\n",
      "2\n"
     ]
    }
   ],
   "source": [
    "ArrayList vals = new ArrayList(new int[] {5,1,7,4,2,3,1,5,5,5,5,5,5,5,5,7,4});\n",
    "vals.Sort();//Сортировка массива\n",
    "int[] vals_int = new int[vals.Count];\n",
    "vals.CopyTo(vals_int);//копирование значений vals в обычный array int[]\n",
    "PrintArray(vals_int);\n",
    "\n",
    "Console.WriteLine(vals.BinarySearch(7)); //индекс элемента равного 7\n",
    "Console.WriteLine(vals.BinarySearch(10)); //если элемента нет, и он меньше минимального, то выводится -1, иначе - двоичное дополнение до 15\n",
    "vals.Reverse(); //объект ArrayList реверсируется\n",
    "vals.Insert(4,6); //vals[4] = 6;\n",
    "Console.WriteLine(vals.IndexOf(5)); //индекс первого элемента равного 5"
   ]
  }
 ],
 "metadata": {
  "kernelspec": {
   "display_name": ".NET (C#)",
   "language": "C#",
   "name": ".net-csharp"
  },
  "language_info": {
   "name": "polyglot-notebook"
  },
  "polyglot_notebook": {
   "kernelInfo": {
    "defaultKernelName": "csharp",
    "items": [
     {
      "aliases": [],
      "languageName": "csharp",
      "name": "csharp"
     }
    ]
   }
  }
 },
 "nbformat": 4,
 "nbformat_minor": 2
}
