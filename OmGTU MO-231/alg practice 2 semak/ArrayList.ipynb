{
 "cells": [
  {
   "cell_type": "code",
   "execution_count": 3,
   "metadata": {
    "dotnet_interactive": {
     "language": "value"
    },
    "polyglot_notebook": {
     "kernelName": "value"
    }
   },
   "outputs": [],
   "source": [
    "ArrayList:   Count, BinSearch, Copy, IndexOf, Insert, Reverse, Sort, Add"
   ]
  },
  {
   "cell_type": "code",
   "execution_count": 9,
   "metadata": {
    "dotnet_interactive": {
     "language": "csharp"
    },
    "polyglot_notebook": {
     "kernelName": "csharp"
    }
   },
   "outputs": [],
   "source": [
    "//все мои методы\n",
    "public static void PrintArray( ArrayList vals)  {\n",
    "      for ( int i = 0; i < vals.Count; i++ )  { //Count - сколько элементов в ArrayList\n",
    "         Console.WriteLine(vals[i]);\n",
    "      }\n",
    "      Console.WriteLine();\n",
    "}"
   ]
  },
  {
   "cell_type": "code",
   "execution_count": 10,
   "metadata": {
    "dotnet_interactive": {
     "language": "csharp"
    },
    "polyglot_notebook": {
     "kernelName": "csharp"
    }
   },
   "outputs": [
    {
     "name": "stdout",
     "output_type": "stream",
     "text": [
      "Kolya\n",
      "42\n",
      "True\n",
      "\n"
     ]
    }
   ],
   "source": [
    "ArrayList names = new ArrayList();\n",
    "names.Add(\"Kolya\");\n",
    "names.Add(42);\n",
    "names.Add(true); //можно хранить разные типы данных, но из за этого ArrayList менее производителен в сравнении например с листом\n",
    "PrintArray(names);"
   ]
  },
  {
   "cell_type": "code",
   "execution_count": 12,
   "metadata": {
    "dotnet_interactive": {
     "language": "csharp"
    },
    "polyglot_notebook": {
     "kernelName": "csharp"
    }
   },
   "outputs": [
    {
     "name": "stdout",
     "output_type": "stream",
     "text": [
      "1\n",
      "1\n",
      "2\n",
      "3\n",
      "4\n",
      "5\n",
      "5\n",
      "5\n",
      "5\n",
      "7\n",
      "\n",
      "9\n",
      "\n",
      "7\n",
      "5\n",
      "5\n",
      "5\n",
      "5\n",
      "4\n",
      "3\n",
      "5\n",
      "2\n",
      "1\n",
      "1\n",
      "\n",
      "6\n"
     ]
    }
   ],
   "source": [
    "ArrayList vals = new ArrayList(new int[] {5,1,4,2,3,1,5,5,5,7});\n",
    "int[] vals_copy = new int[vals.Count];\n",
    "vals.CopyTo(vals_copy); //в Array копируются все значения vals\n",
    "vals.Sort();//Сортировка массива\n",
    "PrintArray(vals);\n",
    "Console.WriteLine(vals.BinarySearch(7)); //индекс элемента равного 7\n",
    "vals.Insert(3,5); //между 2 и 3 бывшими элементами вставляется 5\n",
    "Console.WriteLine();\n",
    "vals.Reverse(); //ArrayList реверсируется\n",
    "PrintArray(vals);\n",
    "Console.WriteLine(vals.IndexOf(3)); //первый элемент равный 5 начиная отсчет с 3 индекса\n",
    "\n"
   ]
  }
 ],
 "metadata": {
  "kernelspec": {
   "display_name": ".NET (C#)",
   "language": "C#",
   "name": ".net-csharp"
  },
  "language_info": {
   "name": "polyglot-notebook"
  },
  "polyglot_notebook": {
   "kernelInfo": {
    "defaultKernelName": "csharp",
    "items": [
     {
      "aliases": [],
      "languageName": "csharp",
      "name": "csharp"
     }
    ]
   }
  }
 },
 "nbformat": 4,
 "nbformat_minor": 2
}
