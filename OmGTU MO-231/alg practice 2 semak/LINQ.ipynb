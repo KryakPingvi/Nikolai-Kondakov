{
 "cells": [
  {
   "cell_type": "markdown",
   "metadata": {},
   "source": [
    "Имеется данные содержащиеся следующего сведения о клиентах банка: номер счёта, ФИО, доход, расход, сумма налогов которую надо оплатить (налог только на доход 5%)\n",
    "\n",
    "С помощью запросов определить кол-во клиентов с отриц балансом\n",
    "\n",
    "Клиента с самым большим балансом с учетом уплаты налогов\n",
    "\n",
    "Средний доход по счетам с отрицательным балансом\n",
    "\n",
    "Суммарная сумма налогов со всех клиентов"
   ]
  },
  {
   "cell_type": "code",
   "execution_count": 4,
   "metadata": {
    "dotnet_interactive": {
     "language": "csharp"
    },
    "polyglot_notebook": {
     "kernelName": "csharp"
    }
   },
   "outputs": [],
   "source": [
    "class Client\n",
    "{\n",
    "    public string number;\n",
    "    public string FIO;\n",
    "    public double dohod;\n",
    "    public double rashod;\n",
    "    public double nalog;\n",
    "    public Client(string number, string FIO, double dohod, double rashod)\n",
    "    {\n",
    "        this.number = number;\n",
    "        this.FIO = FIO;\n",
    "        this.dohod = dohod;\n",
    "        this.rashod = rashod;\n",
    "        nalog = dohod * 0.05;\n",
    "    }\n",
    "}"
   ]
  },
  {
   "cell_type": "code",
   "execution_count": 12,
   "metadata": {},
   "outputs": [
    {
     "name": "stdout",
     "output_type": "stream",
     "text": [
      "Количество людей с отрицательным балансом:\n",
      "3\n",
      "Клиент с самым большим балансом: \n",
      "Ваня Кириченко\n",
      "Средний доход у людей с отрицательным балансом: \n",
      "2394.03\n",
      "Сумма налогов у всех клиентов: \n",
      "2124.228\n"
     ]
    }
   ],
   "source": [
    "Client[] clients = {\n",
    "    new Client (\"001\",\"Коля Кондаков\",1004.04,414.32),\n",
    "    new Client (\"022\",\"Денис Иванов\",3245.43,3422.54),\n",
    "    new Client (\"026\",\"Ваня Кириченко\",34298.43,3422.34),\n",
    "    new Client (\"027\",\"Варя Кузина\",453.32,9324.34),\n",
    "    new Client (\"042\",\"Катя Калягина\",3483.34,9432.34),\n",
    "    \n",
    "};\n",
    "\n",
    "var otriz = from client in clients \n",
    "            where client.dohod < client.rashod + client.nalog \n",
    "            select client;\n",
    "Console.WriteLine(\"Количество людей с отрицательным балансом:\");\n",
    "Console.WriteLine(otriz.Count());\n",
    "\n",
    "var bogatie_linq = from client in clients \n",
    "            orderby client.dohod-client.rashod-client.nalog\n",
    "            select client;\n",
    "Client[] bogatie = bogatie_linq.ToArray<Client>();\n",
    "Console.WriteLine(\"Клиент с самым большим балансом: \");\n",
    "Console.WriteLine(bogatie[bogatie.Length-1].FIO);\n",
    "\n",
    "double sum_dohod = otriz.Sum(client => client.dohod);\n",
    "int clients_otriz = otriz.Count();\n",
    "Console.WriteLine(\"Средний доход у людей с отрицательным балансом: \");\n",
    "Console.WriteLine(sum_dohod/clients_otriz);\n",
    "\n",
    "double sum_nal = clients.Sum(client => client.nalog);\n",
    "Console.WriteLine(\"Сумма налогов у всех клиентов: \");\n",
    "Console.WriteLine(sum_nal);"
   ]
  }
 ],
 "metadata": {
  "kernelspec": {
   "display_name": ".NET (C#)",
   "language": "C#",
   "name": ".net-csharp"
  },
  "language_info": {
   "name": "polyglot-notebook"
  },
  "polyglot_notebook": {
   "kernelInfo": {
    "defaultKernelName": "csharp",
    "items": [
     {
      "aliases": [],
      "languageName": "csharp",
      "name": "csharp"
     }
    ]
   }
  }
 },
 "nbformat": 4,
 "nbformat_minor": 2
}
