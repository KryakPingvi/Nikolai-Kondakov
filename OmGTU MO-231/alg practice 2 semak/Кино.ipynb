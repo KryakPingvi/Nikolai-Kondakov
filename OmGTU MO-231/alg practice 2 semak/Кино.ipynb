{
 "cells": [
  {
   "cell_type": "markdown",
   "metadata": {},
   "source": [
    "Данны данные о продаже билетов в кинотеатре: наименование фильма, время начало сеанса, кол-во проданных мест и свободных мест. Необходимо сделать след выборку : выдать все фильмы у которых процент занятости мест <50, выдать все фильмы сеансы которых начинаются после 15 00."
   ]
  },
  {
   "cell_type": "code",
   "execution_count": 1,
   "metadata": {},
   "outputs": [],
   "source": [
    "class Kino\n",
    "{\n",
    "    public string name;\n",
    "    public string time_start;\n",
    "    public int kolvo_sold;\n",
    "    public int kolvo_svobod;\n",
    "    public Kino(string name, string time_start, int kolvo_sold, int kolvo_svobod)\n",
    "    {\n",
    "        this.name = name;\n",
    "        this.time_start = time_start;\n",
    "        this.kolvo_sold = kolvo_sold;\n",
    "        this.kolvo_svobod = kolvo_svobod;\n",
    "    }\n",
    "}"
   ]
  },
  {
   "cell_type": "code",
   "execution_count": 6,
   "metadata": {},
   "outputs": [
    {
     "name": "stdout",
     "output_type": "stream",
     "text": [
      "Фильмы у которых занятость меньше 50% \n",
      "Микроволновка\n",
      "Карбюратор\n",
      "\n",
      "Фильмы которые начинаются после 15 часов\n",
      "Чужой\n",
      "Микроволновка\n",
      "Карбюратор\n"
     ]
    }
   ],
   "source": [
    "Kino[] seansi = \n",
    "{\n",
    "    new Kino(\"Чужой\", \"16:30\", 30, 20),\n",
    "    new Kino(\"Во все тяжкие\", \"06:33\", 48, 2),\n",
    "    new Kino(\"Микроволновка\", \"18:20\", 13, 37),\n",
    "    new Kino(\"Карбюратор\", \"20:10\", 2, 48),\n",
    "};\n",
    "var zanyat50 = from seans in seansi\n",
    "                where seans.kolvo_sold/seans.kolvo_svobod < 0.5\n",
    "                select seans.name;\n",
    "Console.WriteLine(\"Фильмы у которых занятость меньше 50% \");\n",
    "foreach (var seans in zanyat50) Console.WriteLine(seans);\n",
    "\n",
    "Console.WriteLine();\n",
    "\n",
    "var pozdno = from seans in seansi\n",
    "                where Convert.ToInt32(seans.time_start.Split(':')[0]) >15\n",
    "                select seans.name;\n",
    "\n",
    "Console.WriteLine(\"Фильмы которые начинаются после 15 часов\");\n",
    "foreach (var seans in pozdno) Console.WriteLine(seans);"
   ]
  }
 ],
 "metadata": {
  "kernelspec": {
   "display_name": ".NET (C#)",
   "language": "C#",
   "name": ".net-csharp"
  },
  "polyglot_notebook": {
   "kernelInfo": {
    "defaultKernelName": "csharp",
    "items": [
     {
      "aliases": [],
      "languageName": "csharp",
      "name": "csharp"
     }
    ]
   }
  }
 },
 "nbformat": 4,
 "nbformat_minor": 2
}
