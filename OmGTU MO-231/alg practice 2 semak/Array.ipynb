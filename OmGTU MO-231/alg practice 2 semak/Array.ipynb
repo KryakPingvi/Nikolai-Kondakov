{
 "cells": [
  {
   "cell_type": "code",
   "execution_count": 3,
   "metadata": {
    "dotnet_interactive": {
     "language": "value"
    },
    "polyglot_notebook": {
     "kernelName": "value"
    }
   },
   "outputs": [],
   "source": [
    "Array:       Count, BinSearch, Copy, Find, FindLast, IndexOf, Reverse, Resize, Sort"
   ]
  },
  {
   "cell_type": "code",
   "execution_count": 7,
   "metadata": {
    "dotnet_interactive": {
     "language": "csharp"
    },
    "polyglot_notebook": {
     "kernelName": "csharp"
    }
   },
   "outputs": [],
   "source": [
    "//все мои методы\n",
    "public static void PrintArray( String[] vals)  {\n",
    "      for ( int i = 0; i < vals.Length; i++ )  {\n",
    "         Console.WriteLine(vals[i]);\n",
    "      }\n",
    "      Console.WriteLine();\n",
    "}\n",
    "public static void PrintArray( int[] vals)  {\n",
    "      for ( int i = 0; i < vals.Length; i++ )  {\n",
    "         Console.WriteLine(vals[i]);\n",
    "      }\n",
    "      Console.WriteLine();\n",
    "}"
   ]
  },
  {
   "cell_type": "code",
   "execution_count": 64,
   "metadata": {
    "dotnet_interactive": {
     "language": "csharp"
    },
    "polyglot_notebook": {
     "kernelName": "csharp"
    }
   },
   "outputs": [
    {
     "name": "stdout",
     "output_type": "stream",
     "text": [
      "Count: 2\r\n"
     ]
    }
   ],
   "source": [
    "string[] names = { \"Коля\", \"Денис\", \"Катя\", \"Варя\", \"Ваня\", \"Дима\" };\n",
    "Console.WriteLine(\"Count: \" + names.Count(c => c[0]=='В')); //Счетчик элементов массива, подходящих под условие"
   ]
  },
  {
   "cell_type": "code",
   "execution_count": 58,
   "metadata": {
    "dotnet_interactive": {
     "language": "csharp"
    },
    "polyglot_notebook": {
     "kernelName": "csharp"
    }
   },
   "outputs": [
    {
     "name": "stdout",
     "output_type": "stream",
     "text": [
      "1\n",
      "1\n",
      "2\n",
      "3\n",
      "4\n",
      "5\n",
      "5\n",
      "5\n",
      "5\n",
      "5\n",
      "5\n",
      "5\n",
      "5\n",
      "5\n",
      "7\n",
      "7\n",
      "\n",
      "14\n",
      "1\n",
      "4\n",
      "5\n"
     ]
    }
   ],
   "source": [
    "int[] vals = {5,1,7,4,2,3,1,5,5,5,5,5,5,5,5,7};\n",
    "Array.Sort(vals);//Сортировка массива\n",
    "PrintArray(vals);\n",
    "Console.WriteLine(Array.BinarySearch(vals, 7)); //последний элемент равный 5\n",
    "Console.WriteLine(Array.Find(vals, p => p%2==0)); //первый элемент подходящий под условие, иначе 0\n",
    "Console.WriteLine(Array.FindLast(vals, p => p%2==0)); //последний элемент подходящий под условие, иначе 0\n",
    "Console.WriteLine(Array.IndexOf(vals, 5,3)); //первый элемент равный 5 начиная отсчет с 3 индекса\n",
    "\n"
   ]
  },
  {
   "cell_type": "code",
   "execution_count": 72,
   "metadata": {
    "dotnet_interactive": {
     "language": "csharp"
    },
    "polyglot_notebook": {
     "kernelName": "csharp"
    }
   },
   "outputs": [
    {
     "name": "stdout",
     "output_type": "stream",
     "text": [
      "До:\n",
      "0\n",
      "0\n",
      "0\n",
      "0\n",
      "2\n",
      "3\n",
      "4\n",
      "5\n",
      "5\n",
      "0\n",
      "\n",
      "После:\n",
      "0\n",
      "0\n",
      "0\n",
      "0\n",
      "2\n",
      "\n",
      "7\n",
      "7\n",
      "5\n",
      "5\n",
      "5\n",
      "5\n",
      "5\n",
      "5\n",
      "5\n",
      "5\n",
      "5\n",
      "4\n",
      "3\n",
      "2\n",
      "1\n",
      "1\n",
      "\n"
     ]
    }
   ],
   "source": [
    "int[] vals_copy = new int[10];\n",
    "Console.WriteLine(\"До:\");\n",
    "Array.Copy(vals, 2, vals_copy, 4,5); //в массиве vals копируются 5 элементов, начиная с 2 места,  вставляются в vals_copy с 4 места\n",
    "PrintArray(vals_copy);\n",
    "Console.WriteLine(\"После:\");\n",
    "Array.Resize(ref vals_copy,5);\n",
    "PrintArray(vals_copy);\n",
    "\n",
    "int[] vals_reverse = vals;\n",
    "Array.Reverse(vals_reverse);\n",
    "PrintArray(vals_reverse);"
   ]
  },
  {
   "cell_type": "code",
   "execution_count": null,
   "metadata": {
    "dotnet_interactive": {
     "language": "csharp"
    },
    "polyglot_notebook": {
     "kernelName": "csharp"
    }
   },
   "outputs": [],
   "source": [
    "\n"
   ]
  }
 ],
 "metadata": {
  "kernelspec": {
   "display_name": ".NET (C#)",
   "language": "C#",
   "name": ".net-csharp"
  },
  "language_info": {
   "name": "polyglot-notebook"
  },
  "polyglot_notebook": {
   "kernelInfo": {
    "defaultKernelName": "csharp",
    "items": [
     {
      "aliases": [],
      "languageName": "csharp",
      "name": "csharp"
     }
    ]
   }
  }
 },
 "nbformat": 4,
 "nbformat_minor": 2
}
