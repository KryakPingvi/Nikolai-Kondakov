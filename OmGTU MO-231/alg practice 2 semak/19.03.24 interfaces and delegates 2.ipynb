{
 "cells": [
  {
   "cell_type": "code",
   "execution_count": 11,
   "metadata": {
    "dotnet_interactive": {
     "language": "csharp"
    },
    "polyglot_notebook": {
     "kernelName": "csharp"
    }
   },
   "outputs": [],
   "source": [
    "class Car\n",
    "{\n",
    "    public string Name; \n",
    "    public bool Washed;\n",
    "    public Car(string name)\n",
    "    {\n",
    "        Name=name;\n",
    "        Washed = false;\n",
    "    }\n",
    "}\n",
    "class Garage\n",
    "{\n",
    "    List<Car> cars= new List<Car>();\n",
    "    public void AddCar(Car car)\n",
    "    {\n",
    "        cars.Add(car);\n",
    "    }\n",
    "    public List<Car> GetCars() \n",
    "    {\n",
    "        return cars;\n",
    "    }\n",
    "}\n",
    "class Washer\n",
    "{\n",
    "    public static void Wash(Car car) \n",
    "    {\n",
    "        car.Washed = true;\n",
    "    }\n",
    "}"
   ]
  },
  {
   "cell_type": "code",
   "execution_count": 14,
   "metadata": {
    "dotnet_interactive": {
     "language": "csharp"
    },
    "polyglot_notebook": {
     "kernelName": "csharp"
    }
   },
   "outputs": [],
   "source": [
    "delegate void delegwash(Car car);\n",
    "delegwash wash = Washer.Wash;\n",
    "Garage gar = new Garage();\n",
    "\n",
    "gar.AddCar(new Car(\"Volzwagen\"));\n",
    "gar.AddCar(new Car(\"Bentley\"));\n",
    "gar.AddCar(new Car(\"Suzuki\"));\n",
    "gar.AddCar(new Car(\"Jaguar\"));\n",
    "\n",
    "List<Car> cars = gar.GetCars();\n",
    "for (int i = 0; i<cars.Count;i++)\n",
    "{\n",
    "    wash(cars[i]);\n",
    "}"
   ]
  }
 ],
 "metadata": {
  "kernelspec": {
   "display_name": ".NET (C#)",
   "language": "C#",
   "name": ".net-csharp"
  },
  "language_info": {
   "name": "polyglot-notebook"
  },
  "polyglot_notebook": {
   "kernelInfo": {
    "defaultKernelName": "csharp",
    "items": [
     {
      "aliases": [],
      "languageName": "csharp",
      "name": "csharp"
     }
    ]
   }
  }
 },
 "nbformat": 4,
 "nbformat_minor": 2
}
