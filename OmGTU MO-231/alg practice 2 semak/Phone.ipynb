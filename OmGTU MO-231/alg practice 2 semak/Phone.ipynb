{
 "cells": [
  {
   "cell_type": "markdown",
   "metadata": {
    "dotnet_interactive": {
     "language": "csharp"
    },
    "polyglot_notebook": {
     "kernelName": "csharp"
    }
   },
   "source": [
    "На вход подаётся данные типа: номер телефона с которого звонили, номер на который звонили, дата звонка, количество минут; определить на какой номер чаще всего звонил выбранный абонент по датам(сгрупировав данные по датам), определить номера с которыми наибольшее количество минут разговаривал абонент(каждый абонент)(сгрупировав данные по дате)"
   ]
  },
  {
   "cell_type": "code",
   "execution_count": 4,
   "metadata": {
    "dotnet_interactive": {
     "language": "csharp"
    },
    "polyglot_notebook": {
     "kernelName": "csharp"
    }
   },
   "outputs": [],
   "source": [
    "class Phone\n",
    "{\n",
    "    public string num_in;\n",
    "    public string num_out;\n",
    "    public string date;\n",
    "    public int mins;\n",
    "    public Phone(string num_in,string num_out,string date,int mins)\n",
    "    {\n",
    "        this.num_in = num_in;\n",
    "        this.num_out = num_out;\n",
    "        this.date = date;\n",
    "        this.mins = mins;\n",
    "    }\n",
    "}"
   ]
  },
  {
   "cell_type": "code",
   "execution_count": 87,
   "metadata": {},
   "outputs": [],
   "source": [
    "Phone[] zvonki =\n",
    "{\n",
    "    new Phone(\"8913КОЛЯ\", \"8913ДЕНИС\", \"24.03.23\", 3),\n",
    "    new Phone(\"8913ДЕНИС\", \"8913ВАНЯ\", \"24.03.23\", 5),\n",
    "    new Phone(\"8913ВАНЯ\", \"8913КОЛЯ\", \"24.03.23\", 7),\n",
    "    new Phone(\"8913ДЕНИС\", \"8913КОЛЯ\", \"24.03.23\", 2),\n",
    "    new Phone(\"8913ДЕНИС\", \"8913КОЛЯ\", \"24.03.23\", 3),\n",
    "\n",
    "    new Phone(\"8913ДИМА\", \"8913КОЛЯ\", \"27.03.23\", 14),\n",
    "    new Phone(\"8913КОЛЯ\", \"8913ВАНЯ\", \"27.03.23\", 10),\n",
    "    new Phone(\"8913ВАНЯ\", \"8913ДЕНИС\", \"27.03.23\", 4),\n",
    "\n",
    "    new Phone(\"8913КОЛЯ\", \"8913ДЕНИС\", \"29.03.23\", 5),\n",
    "    new Phone(\"8913ДЕНИС\", \"8913КОЛЯ\", \"29.03.23\", 8)\n",
    "};"
   ]
  },
  {
   "cell_type": "code",
   "execution_count": 119,
   "metadata": {},
   "outputs": [
    {
     "data": {
      "text/html": [
       "<table><thead><tr><th><i>index</i></th><th>value</th></tr></thead><tbody><tr><td>0</td><td><details class=\"dni-treeview\"><summary><span class=\"dni-code-hint\"><code>{ V_datu = 24.03.23, Vibrannii_abonent_zvonil_chashe_vsego_na = System.Linq.Enumerable+WhereSelectEnumerableIterator`2[&lt;&gt;f__AnonymousType0#37`3[System.String,System.String,System.Int32],System.String] }</code></span></summary><div><table><thead><tr></tr></thead><tbody><tr><td>V_datu</td><td><div class=\"dni-plaintext\"><pre>24.03.23</pre></div></td></tr><tr><td>Vibrannii_abonent_zvonil_chashe_vsego_na</td><td><div class=\"dni-plaintext\"><pre>[ 8913КОЛЯ ]</pre></div></td></tr></tbody></table></div></details></td></tr><tr><td>1</td><td><details class=\"dni-treeview\"><summary><span class=\"dni-code-hint\"><code>{ V_datu = 29.03.23, Vibrannii_abonent_zvonil_chashe_vsego_na = System.Linq.Enumerable+WhereSelectEnumerableIterator`2[&lt;&gt;f__AnonymousType0#37`3[System.String,System.String,System.Int32],System.String] }</code></span></summary><div><table><thead><tr></tr></thead><tbody><tr><td>V_datu</td><td><div class=\"dni-plaintext\"><pre>29.03.23</pre></div></td></tr><tr><td>Vibrannii_abonent_zvonil_chashe_vsego_na</td><td><div class=\"dni-plaintext\"><pre>[ 8913КОЛЯ ]</pre></div></td></tr></tbody></table></div></details></td></tr></tbody></table><style>\r\n",
       ".dni-code-hint {\r\n",
       "    font-style: italic;\r\n",
       "    overflow: hidden;\r\n",
       "    white-space: nowrap;\r\n",
       "}\r\n",
       ".dni-treeview {\r\n",
       "    white-space: nowrap;\r\n",
       "}\r\n",
       ".dni-treeview td {\r\n",
       "    vertical-align: top;\r\n",
       "    text-align: start;\r\n",
       "}\r\n",
       "details.dni-treeview {\r\n",
       "    padding-left: 1em;\r\n",
       "}\r\n",
       "table td {\r\n",
       "    text-align: start;\r\n",
       "}\r\n",
       "table tr { \r\n",
       "    vertical-align: top; \r\n",
       "    margin: 0em 0px;\r\n",
       "}\r\n",
       "table tr td pre \r\n",
       "{ \r\n",
       "    vertical-align: top !important; \r\n",
       "    margin: 0em 0px !important;\r\n",
       "} \r\n",
       "table th {\r\n",
       "    text-align: start;\r\n",
       "}\r\n",
       "</style>"
      ]
     },
     "metadata": {},
     "output_type": "display_data"
    }
   ],
   "source": [
    "string abonent_most = \"8913ДЕНИС\"; //выбранный абонент\n",
    "\n",
    "var dates_mostcalled_arr = from zvonok in zvonki\n",
    "            group zvonok by zvonok.date into dates\n",
    "            from date in dates\n",
    "            where date.num_in == abonent_most\n",
    "            select new{\n",
    "                Date = dates.Key, \n",
    "                Num_in = abonent_most,\n",
    "                Num_Out = date.num_out\n",
    "            };\n",
    "\n",
    "var dates_count = from zvonok in dates_mostcalled_arr\n",
    "            group zvonok by new {zvonok.Date, zvonok.Num_Out} into zvonki\n",
    "            select new {Date = zvonki.Key.Date, Num_Out = zvonki.Key.Num_Out, Kolvo = zvonki.Select(x => x.Date).Count()};\n",
    "\n",
    "var dates_max = from date in dates_count\n",
    "            group date by date.Date into dates\n",
    "            select new {V_datu = dates.Key, Vibrannii_abonent_zvonil_chashe_vsego_na = from date in dates where date.Kolvo==dates.Select(x => x.Kolvo).Max() select date.Num_Out}; //Date - Дата, Num_Out - массив номеров телефонов, которым звонил выбранный телефон в конкретную дату\n",
    "\n",
    "dates_max"
   ]
  },
  {
   "cell_type": "code",
   "execution_count": 118,
   "metadata": {},
   "outputs": [
    {
     "data": {
      "text/html": [
       "<table><thead><tr><th><i>index</i></th><th>value</th></tr></thead><tbody><tr><td>0</td><td><details class=\"dni-treeview\"><summary><span class=\"dni-code-hint\"><code>{ V_datu = 24.03.23, nomer = 8913КОЛЯ, zvonil_bolshe_vsego_na = 8913ДЕНИС, oni_razgovarivali = 3 }</code></span></summary><div><table><thead><tr></tr></thead><tbody><tr><td>V_datu</td><td><div class=\"dni-plaintext\"><pre>24.03.23</pre></div></td></tr><tr><td>nomer</td><td><div class=\"dni-plaintext\"><pre>8913КОЛЯ</pre></div></td></tr><tr><td>zvonil_bolshe_vsego_na</td><td><div class=\"dni-plaintext\"><pre>8913ДЕНИС</pre></div></td></tr><tr><td>oni_razgovarivali</td><td><div class=\"dni-plaintext\"><pre>3</pre></div></td></tr></tbody></table></div></details></td></tr><tr><td>1</td><td><details class=\"dni-treeview\"><summary><span class=\"dni-code-hint\"><code>{ V_datu = 24.03.23, nomer = 8913ДЕНИС, zvonil_bolshe_vsego_na = 8913ВАНЯ, oni_razgovarivali = 5 }</code></span></summary><div><table><thead><tr></tr></thead><tbody><tr><td>V_datu</td><td><div class=\"dni-plaintext\"><pre>24.03.23</pre></div></td></tr><tr><td>nomer</td><td><div class=\"dni-plaintext\"><pre>8913ДЕНИС</pre></div></td></tr><tr><td>zvonil_bolshe_vsego_na</td><td><div class=\"dni-plaintext\"><pre>8913ВАНЯ</pre></div></td></tr><tr><td>oni_razgovarivali</td><td><div class=\"dni-plaintext\"><pre>5</pre></div></td></tr></tbody></table></div></details></td></tr><tr><td>2</td><td><details class=\"dni-treeview\"><summary><span class=\"dni-code-hint\"><code>{ V_datu = 24.03.23, nomer = 8913ДЕНИС, zvonil_bolshe_vsego_na = 8913КОЛЯ, oni_razgovarivali = 5 }</code></span></summary><div><table><thead><tr></tr></thead><tbody><tr><td>V_datu</td><td><div class=\"dni-plaintext\"><pre>24.03.23</pre></div></td></tr><tr><td>nomer</td><td><div class=\"dni-plaintext\"><pre>8913ДЕНИС</pre></div></td></tr><tr><td>zvonil_bolshe_vsego_na</td><td><div class=\"dni-plaintext\"><pre>8913КОЛЯ</pre></div></td></tr><tr><td>oni_razgovarivali</td><td><div class=\"dni-plaintext\"><pre>5</pre></div></td></tr></tbody></table></div></details></td></tr><tr><td>3</td><td><details class=\"dni-treeview\"><summary><span class=\"dni-code-hint\"><code>{ V_datu = 24.03.23, nomer = 8913ВАНЯ, zvonil_bolshe_vsego_na = 8913КОЛЯ, oni_razgovarivali = 7 }</code></span></summary><div><table><thead><tr></tr></thead><tbody><tr><td>V_datu</td><td><div class=\"dni-plaintext\"><pre>24.03.23</pre></div></td></tr><tr><td>nomer</td><td><div class=\"dni-plaintext\"><pre>8913ВАНЯ</pre></div></td></tr><tr><td>zvonil_bolshe_vsego_na</td><td><div class=\"dni-plaintext\"><pre>8913КОЛЯ</pre></div></td></tr><tr><td>oni_razgovarivali</td><td><div class=\"dni-plaintext\"><pre>7</pre></div></td></tr></tbody></table></div></details></td></tr><tr><td>4</td><td><details class=\"dni-treeview\"><summary><span class=\"dni-code-hint\"><code>{ V_datu = 27.03.23, nomer = 8913ДИМА, zvonil_bolshe_vsego_na = 8913КОЛЯ, oni_razgovarivali = 14 }</code></span></summary><div><table><thead><tr></tr></thead><tbody><tr><td>V_datu</td><td><div class=\"dni-plaintext\"><pre>27.03.23</pre></div></td></tr><tr><td>nomer</td><td><div class=\"dni-plaintext\"><pre>8913ДИМА</pre></div></td></tr><tr><td>zvonil_bolshe_vsego_na</td><td><div class=\"dni-plaintext\"><pre>8913КОЛЯ</pre></div></td></tr><tr><td>oni_razgovarivali</td><td><div class=\"dni-plaintext\"><pre>14</pre></div></td></tr></tbody></table></div></details></td></tr><tr><td>5</td><td><details class=\"dni-treeview\"><summary><span class=\"dni-code-hint\"><code>{ V_datu = 27.03.23, nomer = 8913КОЛЯ, zvonil_bolshe_vsego_na = 8913ВАНЯ, oni_razgovarivali = 10 }</code></span></summary><div><table><thead><tr></tr></thead><tbody><tr><td>V_datu</td><td><div class=\"dni-plaintext\"><pre>27.03.23</pre></div></td></tr><tr><td>nomer</td><td><div class=\"dni-plaintext\"><pre>8913КОЛЯ</pre></div></td></tr><tr><td>zvonil_bolshe_vsego_na</td><td><div class=\"dni-plaintext\"><pre>8913ВАНЯ</pre></div></td></tr><tr><td>oni_razgovarivali</td><td><div class=\"dni-plaintext\"><pre>10</pre></div></td></tr></tbody></table></div></details></td></tr><tr><td>6</td><td><details class=\"dni-treeview\"><summary><span class=\"dni-code-hint\"><code>{ V_datu = 27.03.23, nomer = 8913ВАНЯ, zvonil_bolshe_vsego_na = 8913ДЕНИС, oni_razgovarivali = 4 }</code></span></summary><div><table><thead><tr></tr></thead><tbody><tr><td>V_datu</td><td><div class=\"dni-plaintext\"><pre>27.03.23</pre></div></td></tr><tr><td>nomer</td><td><div class=\"dni-plaintext\"><pre>8913ВАНЯ</pre></div></td></tr><tr><td>zvonil_bolshe_vsego_na</td><td><div class=\"dni-plaintext\"><pre>8913ДЕНИС</pre></div></td></tr><tr><td>oni_razgovarivali</td><td><div class=\"dni-plaintext\"><pre>4</pre></div></td></tr></tbody></table></div></details></td></tr><tr><td>7</td><td><details class=\"dni-treeview\"><summary><span class=\"dni-code-hint\"><code>{ V_datu = 29.03.23, nomer = 8913КОЛЯ, zvonil_bolshe_vsego_na = 8913ДЕНИС, oni_razgovarivali = 5 }</code></span></summary><div><table><thead><tr></tr></thead><tbody><tr><td>V_datu</td><td><div class=\"dni-plaintext\"><pre>29.03.23</pre></div></td></tr><tr><td>nomer</td><td><div class=\"dni-plaintext\"><pre>8913КОЛЯ</pre></div></td></tr><tr><td>zvonil_bolshe_vsego_na</td><td><div class=\"dni-plaintext\"><pre>8913ДЕНИС</pre></div></td></tr><tr><td>oni_razgovarivali</td><td><div class=\"dni-plaintext\"><pre>5</pre></div></td></tr></tbody></table></div></details></td></tr><tr><td>8</td><td><details class=\"dni-treeview\"><summary><span class=\"dni-code-hint\"><code>{ V_datu = 29.03.23, nomer = 8913ДЕНИС, zvonil_bolshe_vsego_na = 8913КОЛЯ, oni_razgovarivali = 8 }</code></span></summary><div><table><thead><tr></tr></thead><tbody><tr><td>V_datu</td><td><div class=\"dni-plaintext\"><pre>29.03.23</pre></div></td></tr><tr><td>nomer</td><td><div class=\"dni-plaintext\"><pre>8913ДЕНИС</pre></div></td></tr><tr><td>zvonil_bolshe_vsego_na</td><td><div class=\"dni-plaintext\"><pre>8913КОЛЯ</pre></div></td></tr><tr><td>oni_razgovarivali</td><td><div class=\"dni-plaintext\"><pre>8</pre></div></td></tr></tbody></table></div></details></td></tr></tbody></table><style>\r\n",
       ".dni-code-hint {\r\n",
       "    font-style: italic;\r\n",
       "    overflow: hidden;\r\n",
       "    white-space: nowrap;\r\n",
       "}\r\n",
       ".dni-treeview {\r\n",
       "    white-space: nowrap;\r\n",
       "}\r\n",
       ".dni-treeview td {\r\n",
       "    vertical-align: top;\r\n",
       "    text-align: start;\r\n",
       "}\r\n",
       "details.dni-treeview {\r\n",
       "    padding-left: 1em;\r\n",
       "}\r\n",
       "table td {\r\n",
       "    text-align: start;\r\n",
       "}\r\n",
       "table tr { \r\n",
       "    vertical-align: top; \r\n",
       "    margin: 0em 0px;\r\n",
       "}\r\n",
       "table tr td pre \r\n",
       "{ \r\n",
       "    vertical-align: top !important; \r\n",
       "    margin: 0em 0px !important;\r\n",
       "} \r\n",
       "table th {\r\n",
       "    text-align: start;\r\n",
       "}\r\n",
       "</style>"
      ]
     },
     "metadata": {},
     "output_type": "display_data"
    }
   ],
   "source": [
    "var summa_odinakovih = from zvonok in zvonki\n",
    "                        group zvonok by new{zvonok.date, zvonok.num_in,zvonok.num_out} into zvonki_po_date_i_in\n",
    "                        select new{Date = zvonki_po_date_i_in.Key.date,Num_in = zvonki_po_date_i_in.Key.num_in, Num_out = zvonki_po_date_i_in.Select(x => x.num_out).First(), Mins = zvonki_po_date_i_in.Sum(x => x.mins)};\n",
    "\n",
    "\n",
    "var every_abon = from zvonok in summa_odinakovih\n",
    "            group zvonok by new{zvonok.Date, zvonok.Num_in} into dates\n",
    "            from date in dates\n",
    "            let x = from date2 in dates select date2.Mins\n",
    "            where date.Mins == x.Max()\n",
    "            select new{\n",
    "                V_datu = dates.Key.Date,\n",
    "                nomer = dates.Key.Num_in,\n",
    "                zvonil_bolshe_vsego_na = date.Num_out,\n",
    "                oni_razgovarivali = date.Mins,\n",
    "            };\n",
    "\n",
    "\n",
    "every_abon"
   ]
  }
 ],
 "metadata": {
  "kernelspec": {
   "display_name": ".NET (C#)",
   "language": "C#",
   "name": ".net-csharp"
  },
  "language_info": {
   "name": "polyglot-notebook"
  },
  "polyglot_notebook": {
   "kernelInfo": {
    "defaultKernelName": "csharp",
    "items": [
     {
      "aliases": [],
      "languageName": "csharp",
      "name": "csharp"
     }
    ]
   }
  }
 },
 "nbformat": 4,
 "nbformat_minor": 2
}
