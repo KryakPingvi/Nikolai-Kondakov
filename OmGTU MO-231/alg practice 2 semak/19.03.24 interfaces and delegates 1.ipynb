{
 "cells": [
  {
   "cell_type": "code",
   "execution_count": 17,
   "metadata": {
    "dotnet_interactive": {
     "language": "csharp"
    },
    "polyglot_notebook": {
     "kernelName": "csharp"
    }
   },
   "outputs": [],
   "source": [
    "interface IOperators\n",
    "{\n",
    "    static double Plus(double a,double b)\n",
    "    {\n",
    "        if(!Double.IsNormal(a)) throw new Exception(\"parameter a is not a number\");\n",
    "        if(!Double.IsNormal(b)) throw new Exception(\"parameter b is not a number\");\n",
    "        return Math.Round(a+b,7);\n",
    "    }\n",
    "    static double Minus(double a,double b)\n",
    "    {\n",
    "        if(!Double.IsNormal(a)) throw new Exception(\"parameter a is not a number\");\n",
    "        if(!Double.IsNormal(b)) throw new Exception(\"parameter b is not a number\");\n",
    "        return Math.Round(a-b,7);\n",
    "    }\n",
    "    static double Sqrt(double a)\n",
    "    {\n",
    "        if(!Double.IsNormal(a)) throw new Exception(\"parameter a is not a number\");\n",
    "        if (a<0) throw new Exception(\"parameter a can't be less than 0\");\n",
    "        return Math.Sqrt(a);\n",
    "    }\n",
    "    static double Sin(double a)\n",
    "    {\n",
    "        if(!Double.IsNormal(a)) throw new Exception(\"parameter a is not a number\");\n",
    "        return Math.Sin(a);\n",
    "    }\n",
    "    static double Cos(double a)\n",
    "    {\n",
    "        if(!Double.IsNormal(a)) throw new Exception(\"parameter a is not a number\");\n",
    "        return Math.Cos(a);\n",
    "    }\n",
    "}"
   ]
  },
  {
   "cell_type": "code",
   "execution_count": 25,
   "metadata": {
    "dotnet_interactive": {
     "language": "csharp"
    },
    "polyglot_notebook": {
     "kernelName": "csharp"
    }
   },
   "outputs": [],
   "source": [
    "delegate double SomeBinarOperator(double a, double b);\n",
    "delegate double SomeUnarOperator(double a);\n",
    "double ZZZ(string n, double a, double b=double.NaN)\n",
    "{\n",
    "    SomeBinarOperator plus = IOperators.Plus;\n",
    "    SomeBinarOperator minus = IOperators.Minus;\n",
    "    SomeUnarOperator sqrt = IOperators.Sqrt;\n",
    "    SomeUnarOperator sin = IOperators.Sin;\n",
    "    SomeUnarOperator cos = IOperators.Cos;\n",
    "    double S = 0;\n",
    "    switch (n)\n",
    "    {\n",
    "        case \"plus\":\n",
    "            S=plus(a,b);\n",
    "            break;\n",
    "        case \"minus\":\n",
    "            S=minus(a,b);\n",
    "            break;\n",
    "        case \"sqrt\":\n",
    "            if (b!=double.NaN) throw new Exception(\"too many parameters given\");\n",
    "            S=sqrt(a);\n",
    "            break;\n",
    "        case \"sin\":\n",
    "            if (b!=double.NaN) throw new Exception(\"too many parameters given\");\n",
    "            S=sin(a);\n",
    "            break;\n",
    "        case \"cos\":\n",
    "            if (b!=double.NaN) throw new Exception(\"too many parameters given\");\n",
    "            S=cos(a);\n",
    "            break;\n",
    "    }\n",
    "    return S;\n",
    "}"
   ]
  },
  {
   "cell_type": "code",
   "execution_count": 26,
   "metadata": {
    "dotnet_interactive": {
     "language": "csharp"
    },
    "polyglot_notebook": {
     "kernelName": "csharp"
    }
   },
   "outputs": [
    {
     "ename": "Error",
     "evalue": "System.Exception: too many parameters given\r\n   at Submission#26.ZZZ(String n, Double a, Double b)\r\n   at Submission#27.<<Initialize>>d__0.MoveNext()\r\n--- End of stack trace from previous location ---\r\n   at Microsoft.CodeAnalysis.Scripting.ScriptExecutionState.RunSubmissionsAsync[TResult](ImmutableArray`1 precedingExecutors, Func`2 currentExecutor, StrongBox`1 exceptionHolderOpt, Func`2 catchExceptionOpt, CancellationToken cancellationToken)",
     "output_type": "error",
     "traceback": [
      "System.Exception: too many parameters given\r\n",
      "   at Submission#26.ZZZ(String n, Double a, Double b)\r\n",
      "   at Submission#27.<<Initialize>>d__0.MoveNext()\r\n",
      "--- End of stack trace from previous location ---\r\n",
      "   at Microsoft.CodeAnalysis.Scripting.ScriptExecutionState.RunSubmissionsAsync[TResult](ImmutableArray`1 precedingExecutors, Func`2 currentExecutor, StrongBox`1 exceptionHolderOpt, Func`2 catchExceptionOpt, CancellationToken cancellationToken)"
     ]
    }
   ],
   "source": [
    "ZZZ(\"sqrt\",2,3)"
   ]
  }
 ],
 "metadata": {
  "kernelspec": {
   "display_name": ".NET (C#)",
   "language": "C#",
   "name": ".net-csharp"
  },
  "language_info": {
   "name": "polyglot-notebook"
  },
  "polyglot_notebook": {
   "kernelInfo": {
    "defaultKernelName": "csharp",
    "items": [
     {
      "aliases": [],
      "languageName": "csharp",
      "name": "csharp"
     }
    ]
   }
  }
 },
 "nbformat": 4,
 "nbformat_minor": 2
}
