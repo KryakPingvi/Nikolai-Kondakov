{
 "cells": [
  {
   "cell_type": "code",
   "execution_count": 16,
   "metadata": {
    "dotnet_interactive": {
     "language": "csharp"
    },
    "polyglot_notebook": {
     "kernelName": "csharp"
    }
   },
   "outputs": [],
   "source": [
    "void print(char[] a)\n",
    "{\n",
    "    for (int i=0;i<a.Length;i++)\n",
    "    {\n",
    "        Console.WriteLine(a[i]);\n",
    "    }\n",
    "    Console.WriteLine();\n",
    "}"
   ]
  },
  {
   "cell_type": "code",
   "execution_count": 18,
   "metadata": {
    "dotnet_interactive": {
     "language": "csharp"
    },
    "polyglot_notebook": {
     "kernelName": "csharp"
    }
   },
   "outputs": [
    {
     "name": "stdout",
     "output_type": "stream",
     "text": [
      "a\n",
      "b\n",
      "c\n",
      "d\n",
      "\n",
      "c\n",
      "\n",
      "d\n",
      "\n",
      "b\n",
      "\n",
      "a\n",
      "b\n",
      "\n"
     ]
    }
   ],
   "source": [
    "char[] Union(char[] set1,char[] set2,char[] set3)\n",
    "{\n",
    "    char[] set = Enumerable.ToArray<char>(set1.Union(set2));\n",
    "    set = Enumerable.ToArray<char>(set.Union(set3));\n",
    "    return set;\n",
    "}\n",
    "char[] Intersect(char[] set1,char[] set2,char[] set3)\n",
    "{\n",
    "    char[] set = Enumerable.ToArray<char>(set1.Intersect(set2));\n",
    "    set = Enumerable.ToArray<char>(set.Intersect(set3));\n",
    "    return set;\n",
    "}\n",
    "char[] Except(char[] set1,char[] set2,char[] set3) //дополнение для множества на параметре set1\n",
    "{\n",
    "    char[] set = Union(set1,set2,set3);\n",
    "    set = Enumerable.ToArray<char>(set.Except(set1));\n",
    "    return set;\n",
    "}\n",
    "\n",
    "char[] set1 = ['a','b','c'];\n",
    "char[] set2 = ['a','c','d'];\n",
    "char[] set3 = ['c','d'];\n",
    "print(Union(set1,set2,set3));\n",
    "print(Intersect(set1,set2,set3));\n",
    "\n",
    "print(Except(set1,set2,set3));\n",
    "print(Except(set2,set1,set3));\n",
    "print(Except(set3,set2,set1));"
   ]
  }
 ],
 "metadata": {
  "kernelspec": {
   "display_name": ".NET (C#)",
   "language": "C#",
   "name": ".net-csharp"
  },
  "language_info": {
   "name": "polyglot-notebook"
  },
  "polyglot_notebook": {
   "kernelInfo": {
    "defaultKernelName": "csharp",
    "items": [
     {
      "aliases": [],
      "languageName": "csharp",
      "name": "csharp"
     }
    ]
   }
  }
 },
 "nbformat": 4,
 "nbformat_minor": 2
}
