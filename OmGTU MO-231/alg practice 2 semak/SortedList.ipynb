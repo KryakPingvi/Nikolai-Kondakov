{
 "cells": [
  {
   "cell_type": "code",
   "execution_count": 3,
   "metadata": {
    "dotnet_interactive": {
     "language": "value"
    },
    "polyglot_notebook": {
     "kernelName": "value"
    }
   },
   "outputs": [],
   "source": [
    "SortedList:  Add, IndexOf и по ключу и по значению, Вывод ключа по индексу, Вывод значения по индексу"
   ]
  },
  {
   "cell_type": "code",
   "execution_count": 12,
   "metadata": {
    "dotnet_interactive": {
     "language": "csharp"
    },
    "polyglot_notebook": {
     "kernelName": "csharp"
    }
   },
   "outputs": [
    {
     "name": "stdout",
     "output_type": "stream",
     "text": [
      "Count: 3\n",
      "2\n",
      "1\n",
      "Ключ 2\n",
      "Значение 2\n"
     ]
    }
   ],
   "source": [
    "SortedList names = new SortedList();\n",
    "names.Add(\"Ключ 1\", \"Значение 1\");\n",
    "names.Add(\"Ключ 2\", \"Значение 2\");\n",
    "names.Add(\"Ключ 3\", \"Значение 3\"); //первый параметр - ключ, второй - значение по ключу\n",
    "Console.WriteLine(\"Count: \" + names.Count); //сколько элементов\n",
    "Console.WriteLine(names.IndexOfKey(\"Ключ 3\")); //выдает индекс элемента, у которого ключ равен данному\n",
    "Console.WriteLine(names.IndexOfValue(\"Значение 2\")); //выдает индекс элемента, у которого значение равно данному\n",
    "Console.WriteLine(names.GetKey(1)); //выдает ключ элемента, стоящего на индексе 1\n",
    "Console.WriteLine(names.GetByIndex(1)); //выдает значение, стоящее на индексе 1"
   ]
  }
 ],
 "metadata": {
  "kernelspec": {
   "display_name": ".NET (C#)",
   "language": "C#",
   "name": ".net-csharp"
  },
  "language_info": {
   "name": "polyglot-notebook"
  },
  "polyglot_notebook": {
   "kernelInfo": {
    "defaultKernelName": "csharp",
    "items": [
     {
      "aliases": [],
      "languageName": "csharp",
      "name": "csharp"
     }
    ]
   }
  }
 },
 "nbformat": 4,
 "nbformat_minor": 2
}
