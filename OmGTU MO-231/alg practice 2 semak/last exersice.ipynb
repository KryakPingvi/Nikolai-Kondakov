{
 "cells": [
  {
   "cell_type": "markdown",
   "metadata": {},
   "source": [
    "Содержатся сведения о производстве товаров работниками (табельный номер, ФИО сотрудника, должность, зарплата, категория товара, кол-во произведённых товаров, цена за единицу товара)\n",
    "\n",
    "Необходимо определить:\n",
    "\n",
    "1) Кол-во рабочих, которые получают ЗП < сумма выработанной продукции\n",
    "\n",
    "2) Кол-во произведённой продукции по каждой категории (в количественном и денежном эквиваленте)\n",
    "\n",
    "3) Общий суммарный объём произведённой продукции\n",
    "\n",
    "4) Кол-во сотрудников, получающих > 50% от суммы производимого ими продукта"
   ]
  },
  {
   "cell_type": "code",
   "execution_count": 24,
   "metadata": {
    "dotnet_interactive": {
     "language": "csharp"
    },
    "polyglot_notebook": {
     "kernelName": "csharp"
    }
   },
   "outputs": [],
   "source": [
    "class Rabotnik\n",
    "{\n",
    "    public string number;\n",
    "    public string FIO;\n",
    "    public string dolz;\n",
    "    public double zarplata;\n",
    "    public string cat;\n",
    "    public int kol;\n",
    "    public double price;\n",
    "    public Rabotnik(string number,string FIO,string dolz,double zarplata,string cat,int kol,double price)\n",
    "    {\n",
    "        this.number = number;\n",
    "        this.FIO = FIO;\n",
    "        this.dolz = dolz;\n",
    "        this.zarplata = zarplata;\n",
    "        this.cat = cat;\n",
    "        this.kol = kol;\n",
    "        this.price = price;\n",
    "    }\n",
    "}"
   ]
  },
  {
   "cell_type": "code",
   "execution_count": 25,
   "metadata": {
    "dotnet_interactive": {
     "language": "csharp"
    },
    "polyglot_notebook": {
     "kernelName": "csharp"
    }
   },
   "outputs": [
    {
     "name": "stdout",
     "output_type": "stream",
     "text": [
      "Кол-во рабочих, которые получают ЗП < сумма выработанной продукции: \n",
      "4\n",
      "Кол-во произведённой продукции по каждой категории (в количественном и денежном эквиваленте): \n",
      "мебель  10  10300.4\n",
      "посуда  45  9018\n",
      "секаторы  5  2700.35\n",
      "игральные кости  200  4080\n",
      "шины  24  720009.6\n",
      "Общий суммарный объём произведённой продукции: \n",
      "284\n",
      "0"
     ]
    }
   ],
   "source": [
    "Rabotnik[] rabotniki = {\n",
    "    new Rabotnik(\"123\", \"Ваня Кирич\", \"работник\", 123.04, \"мебель\", 10, 1030.04),\n",
    "    new Rabotnik(\"432\", \"Коля Конд\", \"прараб\", 4239.32, \"посуда\", 45, 200.4),\n",
    "    new Rabotnik(\"876\", \"Денис Иван\", \"начальник\", 4329.9, \"секаторы\", 5, 540.07),\n",
    "    new Rabotnik(\"654\", \"Варвра Кузик\", \"сисадмин\", 3459.03, \"игральные кости\", 200, 20.4),\n",
    "    new Rabotnik(\"234\", \"Катя Каляг\", \"работник\", 3249.43, \"шины\", 24, 30000.4)\n",
    "};\n",
    "\n",
    "var bad = from rabotnik in rabotniki\n",
    "            where rabotnik.zarplata < rabotnik.kol*rabotnik.price\n",
    "                select rabotnik;\n",
    "Console.WriteLine(\"Кол-во рабочих, которые получают ЗП < сумма выработанной продукции: \");\n",
    "Console.WriteLine(bad.Count());\n",
    "var prod = from rabotnik in rabotniki \n",
    "            group rabotnik by rabotnik.cat into g \n",
    "            select new{Category = g.Key, Amount = Convert.ToString(g.Sum(l => l.kol)), Price = Convert.ToString(Math.Round(g.Sum(l=> l.kol * l.price),3))};\n",
    "\n",
    "Console.WriteLine(\"Кол-во произведённой продукции по каждой категории (в количественном и денежном эквиваленте): \");\n",
    "foreach (var p in prod){\n",
    "    Console.WriteLine($\"{p.Category}  {p.Amount}  {p.Price}\");\n",
    "}\n",
    "\n",
    "\n",
    "Console.WriteLine(\"Общий суммарный объём произведённой продукции: \");\n",
    "Console.WriteLine(rabotniki.Sum(r => r.kol));\n",
    "int stonks = rabotniki.Count(l=> 0.5 * l.zarplata >= l.kol * l.price);\n",
    "Console.Write(stonks);\n"
   ]
  }
 ],
 "metadata": {
  "kernelspec": {
   "display_name": ".NET (C#)",
   "language": "C#",
   "name": ".net-csharp"
  },
  "language_info": {
   "name": "polyglot-notebook"
  },
  "polyglot_notebook": {
   "kernelInfo": {
    "defaultKernelName": "csharp",
    "items": [
     {
      "aliases": [],
      "languageName": "csharp",
      "name": "csharp"
     }
    ]
   }
  }
 },
 "nbformat": 4,
 "nbformat_minor": 2
}
