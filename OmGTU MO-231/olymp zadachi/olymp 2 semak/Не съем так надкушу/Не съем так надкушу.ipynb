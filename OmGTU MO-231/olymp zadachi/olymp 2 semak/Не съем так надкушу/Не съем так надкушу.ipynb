{
 "cells": [
  {
   "cell_type": "code",
   "execution_count": 1,
   "metadata": {
    "dotnet_interactive": {
     "language": "csharp"
    },
    "polyglot_notebook": {
     "kernelName": "csharp"
    },
    "vscode": {
     "languageId": "polyglot-notebook"
    }
   },
   "outputs": [],
   "source": [
    "\n",
    "static int[,] FillMatrix(string[] data, int countPicks)\n",
    "{\n",
    "    int[,] matrix = new int[countPicks, countPicks];\n",
    "\n",
    "    for (int i = 1; i < countPicks; i++)\n",
    "    {\n",
    "        var parts = data[i].Split();\n",
    "        int peak = int.Parse(parts[0]);\n",
    "        int value = int.Parse(parts[1]);\n",
    "\n",
    "        matrix[i, peak] = value;\n",
    "        matrix[peak, i] = value;\n",
    "\n",
    "        for (int j = 0; j < i; j++)\n",
    "        {\n",
    "            if (matrix[i, j] == 0)\n",
    "            {\n",
    "                matrix[i, j] = value + matrix[peak, j];\n",
    "                matrix[j, i] = value + matrix[peak, j];\n",
    "            }\n",
    "        }\n",
    "    }\n",
    "\n",
    "    return matrix;\n",
    "}\n",
    "\n",
    "static List<int> FillBerries(string[] data, int minSpel)\n",
    "{\n",
    "    List<int> berries = new List<int>();\n",
    "\n",
    "    foreach (var line in data)\n",
    "    {\n",
    "        var parts = line.Split();\n",
    "        int value = int.Parse(parts[0]);\n",
    "        int spel = int.Parse(parts[1]);\n",
    "\n",
    "        if (spel >= minSpel)\n",
    "        {\n",
    "            berries.Add(value);\n",
    "        }\n",
    "    }\n",
    "\n",
    "    return berries;\n",
    "}\n",
    "\n",
    "static (int, int) FindMinWay(int[,] matrix, int location, List<int> way)\n",
    "{\n",
    "    List<int> minWays = way.Select(w => matrix[location, w]).ToList();\n",
    "    int minValue = minWays.Min();\n",
    "    int index = minWays.IndexOf(minValue);\n",
    "\n",
    "    return (minValue, way[index]);\n",
    "}\n",
    "\n",
    "static int GiveAnswer(int[,] matrix, int location, List<int> berries)\n",
    "{\n",
    "    int totalSum = 0;\n",
    "\n",
    "    while (berries.Count > 0)\n",
    "    {\n",
    "        var (minWay, newLocation) = FindMinWay(matrix, location, berries);\n",
    "        totalSum += minWay;\n",
    "        location = newLocation;\n",
    "        berries.Remove(location);\n",
    "    }\n",
    "\n",
    "    return totalSum;\n",
    "}\n",
    "\n"
   ]
  },
  {
   "cell_type": "code",
   "execution_count": 5,
   "metadata": {
    "dotnet_interactive": {
     "language": "csharp"
    },
    "polyglot_notebook": {
     "kernelName": "csharp"
    },
    "vscode": {
     "languageId": "polyglot-notebook"
    }
   },
   "outputs": [
    {
     "name": "stdout",
     "output_type": "stream",
     "text": [
      "1: True\n",
      "2: 33 29\n",
      "3: True\n",
      "4: True\n",
      "5: True\n",
      "6: True\n",
      "7: True\n",
      "8: True\n",
      "9: True\n",
      "10: True\n",
      "11: True\n",
      "12: True\n",
      "13: True\n",
      "14: True\n",
      "15: True\n",
      "16: True\n",
      "17: True\n",
      "18: True\n",
      "19: True\n",
      "20: True\n",
      "21: True\n",
      "22: 61999 58417\n",
      "23: 337806 318324\n",
      "24: 281336 265419\n",
      "25: 15478 14288\n"
     ]
    }
   ],
   "source": [
    "using System.IO;\n",
    "for (int i = 1; i <= 25; i++)\n",
    "{\n",
    "    string u = i < 10 ? $\"0{i}\" : $\"{i}\";\n",
    "    string inputFilePath = $\"input_s1_{u}.txt\";\n",
    "    string outputFilePath = $\"output_s1_{u}.txt\";\n",
    "\n",
    "    string[] data = File.ReadAllLines(inputFilePath);\n",
    "    var firstLine = data[0].Split();\n",
    "    int countPeaks = int.Parse(firstLine[0]) + 1;\n",
    "    int countBerries = int.Parse(firstLine[1]);\n",
    "\n",
    "    int[,] matrix = FillMatrix(data, countPeaks);\n",
    "    var lastLine = data[data.Length - 1].Split().Select(int.Parse).ToArray();\n",
    "    int location = lastLine[0];\n",
    "    int minSpel = lastLine[1];\n",
    "\n",
    "    string[] dataCopy = data.Skip(countPeaks).Take(countBerries).ToArray();\n",
    "    List<int> berries = FillBerries(dataCopy, minSpel);\n",
    "\n",
    "    int myAnswer = GiveAnswer(matrix, location, berries);\n",
    "    int realAnswer = int.Parse(File.ReadAllText(outputFilePath).Trim());\n",
    "\n",
    "    if (myAnswer == realAnswer)\n",
    "    {\n",
    "        Console.WriteLine($\"{i}: True\");\n",
    "    }\n",
    "    else\n",
    "    {\n",
    "        Console.WriteLine($\"{i}: {myAnswer} {realAnswer}\");\n",
    "    }\n",
    "}"
   ]
  }
 ],
 "metadata": {
  "kernelspec": {
   "display_name": ".NET (C#)",
   "language": "C#",
   "name": ".net-csharp"
  },
  "language_info": {
   "name": "python"
  },
  "polyglot_notebook": {
   "kernelInfo": {
    "defaultKernelName": "csharp",
    "items": [
     {
      "aliases": [],
      "name": "csharp"
     }
    ]
   }
  }
 },
 "nbformat": 4,
 "nbformat_minor": 2
}
