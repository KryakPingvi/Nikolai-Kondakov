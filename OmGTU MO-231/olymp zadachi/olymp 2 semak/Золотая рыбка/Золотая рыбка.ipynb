{
 "cells": [
  {
   "cell_type": "code",
   "execution_count": 3,
   "metadata": {
    "dotnet_interactive": {
     "language": "csharp"
    },
    "polyglot_notebook": {
     "kernelName": "csharp"
    },
    "vscode": {
     "languageId": "polyglot-notebook"
    }
   },
   "outputs": [],
   "source": [
    "using System.IO;\n",
    "static (int countWords, List<string> words, List<string[]> starts, List<string[]> ends) GetInfo(string path)\n",
    "{\n",
    "    using (StreamReader reader = new StreamReader(path))\n",
    "    {\n",
    "        int countWords = int.Parse(reader.ReadLine().Trim());\n",
    "        List<string> words = new List<string>();\n",
    "\n",
    "        for (int i = 0; i < countWords; i++)\n",
    "        {\n",
    "            words.Add(reader.ReadLine().Trim());\n",
    "        }\n",
    "\n",
    "        int countStarts = int.Parse(reader.ReadLine().Trim());\n",
    "        List<string[]> starts = new List<string[]>();\n",
    "\n",
    "        for (int i = 0; i < countStarts; i++)\n",
    "        {\n",
    "            starts.Add(reader.ReadLine().Split());\n",
    "        }\n",
    "\n",
    "        int countEnds = int.Parse(reader.ReadLine().Trim());\n",
    "        List<string[]> ends = new List<string[]>();\n",
    "\n",
    "        for (int i = 0; i < countEnds; i++)\n",
    "        {\n",
    "            ends.Add(reader.ReadLine().Split());\n",
    "        }\n",
    "\n",
    "        return (countWords, words, starts, ends);\n",
    "    }\n",
    "}\n",
    "\n",
    "static void GetAnswer(string path)\n",
    "{\n",
    "    var (n, words, starts, ends) = GetInfo(path);\n",
    "    List<string> way1 = new List<string>();\n",
    "    List<string> way2 = new List<string>();\n",
    "\n",
    "    foreach (var word in words)\n",
    "    {\n",
    "        foreach (var start in starts)\n",
    "        {\n",
    "            foreach (var end in ends)\n",
    "            {\n",
    "                if (word[0] == start[0][0] && word[^1] == end[0][0])\n",
    "                {\n",
    "                    if (int.Parse(start[1]) > 0 && int.Parse(end[1]) > 0)\n",
    "                    {\n",
    "                        way1.Add(word);\n",
    "                        start[1] = (int.Parse(start[1]) - 1).ToString();\n",
    "                        end[1] = (int.Parse(end[1]) - 1).ToString();\n",
    "                    }\n",
    "                }\n",
    "            }\n",
    "        }\n",
    "    }\n",
    "\n",
    "    (_, _, starts, ends) = GetInfo(path);\n",
    "    starts = starts.OrderByDescending(x => int.Parse(x[1])).ToList();\n",
    "    ends = ends.OrderByDescending(x => int.Parse(x[1])).ToList();\n",
    "\n",
    "    foreach (var end in ends)\n",
    "    {\n",
    "        foreach (var start in starts)\n",
    "        {\n",
    "            foreach (var word in words)\n",
    "            {\n",
    "                if (word[0] == start[0][0] && word[^1] == end[0][0])\n",
    "                {\n",
    "                    if (int.Parse(start[1]) > 0)\n",
    "                    {\n",
    "                        way2.Add(word);\n",
    "                        start[1] = (int.Parse(start[1]) - 1).ToString();\n",
    "                    }\n",
    "                }\n",
    "            }\n",
    "        }\n",
    "    }\n",
    "\n",
    "    int myAnswer = Math.Max(way1.Count, way2.Count);\n",
    "    Console.WriteLine(myAnswer);\n",
    "}"
   ]
  },
  {
   "cell_type": "code",
   "execution_count": 4,
   "metadata": {
    "dotnet_interactive": {
     "language": "csharp"
    },
    "polyglot_notebook": {
     "kernelName": "csharp"
    },
    "vscode": {
     "languageId": "polyglot-notebook"
    }
   },
   "outputs": [
    {
     "name": "stdout",
     "output_type": "stream",
     "text": [
      "4\r\n"
     ]
    }
   ],
   "source": [
    "GetAnswer(\"input_s1_01.txt\");"
   ]
  }
 ],
 "metadata": {
  "kernelspec": {
   "display_name": ".NET (C#)",
   "language": "C#",
   "name": ".net-csharp"
  },
  "language_info": {
   "name": "python"
  },
  "polyglot_notebook": {
   "kernelInfo": {
    "defaultKernelName": "csharp",
    "items": [
     {
      "aliases": [],
      "name": "csharp"
     }
    ]
   }
  }
 },
 "nbformat": 4,
 "nbformat_minor": 2
}
