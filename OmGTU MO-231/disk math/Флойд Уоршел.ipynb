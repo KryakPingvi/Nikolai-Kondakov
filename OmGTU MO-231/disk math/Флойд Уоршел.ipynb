{
 "cells": [
  {
   "cell_type": "code",
   "execution_count": 8,
   "metadata": {
    "dotnet_interactive": {
     "language": "csharp"
    },
    "polyglot_notebook": {
     "kernelName": "csharp"
    }
   },
   "outputs": [],
   "source": [
    "const int INF = 999;\n",
    "const int nV = 6;\n",
    "\n",
    "static void FloydWarshall(int[,] graph)\n",
    "{\n",
    "    int[,] distance = new int[nV, nV];\n",
    "\n",
    "    for (int i = 0; i < nV; i++)\n",
    "    {\n",
    "        for (int j = 0; j < nV; j++)\n",
    "        {\n",
    "            distance[i, j] = graph[i, j];\n",
    "        }\n",
    "    }\n",
    "\n",
    "    for (int k = 0; k < nV; k++)\n",
    "    {\n",
    "        for (int i = 0; i < nV; i++)\n",
    "        {\n",
    "            for (int j = 0; j < nV; j++)\n",
    "            {\n",
    "                if (distance[i, k] + distance[k, j] < distance[i, j])\n",
    "                {\n",
    "                    distance[i, j] = distance[i, k] + distance[k, j];\n",
    "                }\n",
    "            }\n",
    "        }\n",
    "    }\n",
    "\n",
    "    PrintSolution(distance);\n",
    "}\n",
    "\n",
    "static void PrintSolution(int[,] distance)\n",
    "{\n",
    "    for (int i = 0; i < nV; i++)\n",
    "    {\n",
    "        for (int j = 0; j < nV; j++)\n",
    "        {\n",
    "            if (distance[i, j] == INF)\n",
    "            {\n",
    "                Console.Write(\"INF\".PadLeft(5));\n",
    "            }\n",
    "            else\n",
    "            {\n",
    "                Console.Write(distance[i, j].ToString().PadLeft(5));\n",
    "            }\n",
    "        }\n",
    "        Console.WriteLine();\n",
    "    }\n",
    "}"
   ]
  },
  {
   "cell_type": "code",
   "execution_count": 9,
   "metadata": {
    "dotnet_interactive": {
     "language": "csharp"
    },
    "polyglot_notebook": {
     "kernelName": "csharp"
    }
   },
   "outputs": [
    {
     "name": "stdout",
     "output_type": "stream",
     "text": [
      "    0   10   18    8   31   20\n",
      "   10    0   16    9   21   21\n",
      "   26   16    0   25   37   15\n",
      "    7    9   25    0   30   12\n",
      "   64   54   38   63    0   23\n",
      "   41   31   15   40   23    0\n"
     ]
    }
   ],
   "source": [
    "int[,] graph = {\n",
    "    {0, 10, 18, 8, INF, INF},\n",
    "    {10, 0, 16, 9, 21, INF},\n",
    "    {INF, 16, 0, INF, INF, 15},\n",
    "    {7, 9, INF, 0, INF, 12},\n",
    "    {INF, INF, INF, INF, 0, 23},\n",
    "    {INF, INF, 15, INF, 23, 0}\n",
    "};\n",
    "\n",
    "FloydWarshall(graph);"
   ]
  }
 ],
 "metadata": {
  "kernelspec": {
   "display_name": ".NET (C#)",
   "language": "C#",
   "name": ".net-csharp"
  },
  "polyglot_notebook": {
   "kernelInfo": {
    "defaultKernelName": "csharp",
    "items": [
     {
      "aliases": [],
      "languageName": "csharp",
      "name": "csharp"
     }
    ]
   }
  }
 },
 "nbformat": 4,
 "nbformat_minor": 2
}
