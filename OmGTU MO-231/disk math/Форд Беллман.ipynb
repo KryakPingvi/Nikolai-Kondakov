{
 "cells": [
  {
   "cell_type": "code",
   "execution_count": 4,
   "metadata": {
    "dotnet_interactive": {
     "language": "csharp"
    },
    "polyglot_notebook": {
     "kernelName": "csharp"
    }
   },
   "outputs": [],
   "source": [
    "using System;\n",
    "using System.Collections.Generic;\n",
    "\n",
    "public static Dictionary<string, double> Ford(Dictionary<string, Dictionary<string, double>> graph, string otkuda)\n",
    "{\n",
    "    var distances = new Dictionary<string, double>();\n",
    "\n",
    "    foreach (var v in graph.Keys)\n",
    "    {\n",
    "        distances[v] = double.PositiveInfinity;\n",
    "    }\n",
    "    distances[otkuda] = 0;\n",
    "\n",
    "    for (int i = 0; i < graph.Count - 1; i++)\n",
    "    {\n",
    "        foreach (var u in graph.Keys)\n",
    "        {\n",
    "            foreach (var v in graph[u].Keys)\n",
    "            {\n",
    "                var weight = graph[u][v];\n",
    "                if (distances[u] != double.PositiveInfinity && distances[u] + weight < distances[v])\n",
    "                {\n",
    "                    distances[v] = distances[u] + weight;\n",
    "                }\n",
    "            }\n",
    "        }\n",
    "    }\n",
    "\n",
    "    foreach (var u in graph.Keys)\n",
    "    {\n",
    "        foreach (var v in graph[u].Keys)\n",
    "        {\n",
    "            var weight = graph[u][v];\n",
    "            if (distances[u] != double.PositiveInfinity && distances[u] + weight < distances[v])\n",
    "            {\n",
    "                throw new Exception(\"Граф содержит цикл с отрицательным весом\");\n",
    "            }\n",
    "        }\n",
    "    }\n",
    "\n",
    "    return distances;\n",
    "}\n"
   ]
  },
  {
   "cell_type": "code",
   "execution_count": 7,
   "metadata": {
    "dotnet_interactive": {
     "language": "csharp"
    },
    "polyglot_notebook": {
     "kernelName": "csharp"
    }
   },
   "outputs": [
    {
     "name": "stdout",
     "output_type": "stream",
     "text": [
      "Рассотояние от вершины A до A = 0\n",
      "Рассотояние от вершины A до B = -1\n",
      "Рассотояние от вершины A до C = 2\n",
      "Рассотояние от вершины A до D = -2\n",
      "Рассотояние от вершины A до E = 1\n"
     ]
    }
   ],
   "source": [
    "var graph = new Dictionary<string, Dictionary<string, double>>\n",
    "{\n",
    "    { \"A\", new Dictionary<string, double> { { \"B\", -1 }, { \"C\", 4 } } },\n",
    "    { \"B\", new Dictionary<string, double> { { \"C\", 3 }, { \"D\", 2 }, { \"E\", 2 } } },\n",
    "    { \"C\", new Dictionary<string, double>() },\n",
    "    { \"D\", new Dictionary<string, double> { { \"B\", 1 }, { \"C\", 5 } } },\n",
    "    { \"E\", new Dictionary<string, double> { { \"D\", -3 } } }\n",
    "};\n",
    "string otkuda = \"A\";\n",
    "\n",
    "var shortestDistances = Ford(graph, otkuda);\n",
    "foreach (var distance in shortestDistances)\n",
    "{\n",
    "    Console.WriteLine($\"Рассотояние от вершины {otkuda} до {distance.Key} = {distance.Value}\");\n",
    "}"
   ]
  }
 ],
 "metadata": {
  "kernelspec": {
   "display_name": ".NET (C#)",
   "language": "C#",
   "name": ".net-csharp"
  },
  "polyglot_notebook": {
   "kernelInfo": {
    "defaultKernelName": "csharp",
    "items": [
     {
      "aliases": [],
      "languageName": "csharp",
      "name": "csharp"
     }
    ]
   }
  }
 },
 "nbformat": 4,
 "nbformat_minor": 2
}
