{
 "cells": [
  {
   "cell_type": "code",
   "execution_count": 7,
   "metadata": {
    "dotnet_interactive": {
     "language": "csharp"
    },
    "polyglot_notebook": {
     "kernelName": "csharp"
    }
   },
   "outputs": [],
   "source": [
    "public static Dictionary<string, double> Ford(Dictionary<string, Dictionary<string, double>> graph, string source)\n",
    "{\n",
    "    var distances = new Dictionary<string, double>();\n",
    "\n",
    "    foreach (var v in graph.Keys)\n",
    "    {\n",
    "        distances[v] = double.PositiveInfinity;\n",
    "    }\n",
    "    distances[source] = 0;\n",
    "\n",
    "    for (int i = 0; i < graph.Count - 1; i++)\n",
    "    {\n",
    "        foreach (var u in graph.Keys)\n",
    "        {\n",
    "            foreach (var v in graph[u].Keys)\n",
    "            {\n",
    "                var weight = graph[u][v];\n",
    "                if (distances[u] != double.PositiveInfinity && distances[u] + weight < distances[v])\n",
    "                {\n",
    "                    distances[v] = distances[u] + weight;\n",
    "                }\n",
    "            }\n",
    "        }\n",
    "    }\n",
    "\n",
    "    foreach (var u in graph.Keys)\n",
    "    {\n",
    "        foreach (var v in graph[u].Keys)\n",
    "        {\n",
    "            var weight = graph[u][v];\n",
    "            if (distances[u] != double.PositiveInfinity && distances[u] + weight < distances[v])\n",
    "            {\n",
    "                throw new Exception(\"Граф содержит цикл с отрицательным весом.\");\n",
    "            }\n",
    "        }\n",
    "    }\n",
    "\n",
    "    return distances;\n",
    "}"
   ]
  },
  {
   "cell_type": "code",
   "execution_count": 8,
   "metadata": {
    "dotnet_interactive": {
     "language": "csharp"
    },
    "polyglot_notebook": {
     "kernelName": "csharp"
    }
   },
   "outputs": [
    {
     "name": "stdout",
     "output_type": "stream",
     "text": [
      "Расстояние от A до A = 0\n",
      "Расстояние от A до B = 2\n",
      "Расстояние от A до C = 4\n",
      "Расстояние от A до D = 7\n",
      "Расстояние от A до E = -2\n"
     ]
    }
   ],
   "source": [
    "Dictionary<string, Dictionary<string, double>> graph = new Dictionary<string, Dictionary<string, double>>\n",
    "{\n",
    "    { \"A\", new Dictionary<string, double> { { \"B\", 6 }, { \"D\", 7 } } },\n",
    "    { \"B\", new Dictionary<string, double> { { \"C\", 5 }, { \"E\", -4 }, { \"D\", 8 } } },\n",
    "    { \"C\", new Dictionary<string, double> { { \"B\", -2 } } },\n",
    "    { \"D\", new Dictionary<string, double> { { \"C\", -3 }, { \"E\", 9 } } },\n",
    "    { \"E\", new Dictionary<string, double> { { \"A\", 2 }, { \"C\", 7 } } }\n",
    "};\n",
    "string nach = \"A\";\n",
    "\n",
    "var shortestDistances = Ford(graph, nach);\n",
    "foreach (var distance in shortestDistances)\n",
    "{\n",
    "    Console.WriteLine($\"Расстояние от {source} до {distance.Key} = {distance.Value}\");\n",
    "}"
   ]
  }
 ],
 "metadata": {
  "kernelspec": {
   "display_name": ".NET (C#)",
   "language": "C#",
   "name": ".net-csharp"
  },
  "polyglot_notebook": {
   "kernelInfo": {
    "defaultKernelName": "csharp",
    "items": [
     {
      "aliases": [],
      "languageName": "csharp",
      "name": "csharp"
     }
    ]
   }
  }
 },
 "nbformat": 4,
 "nbformat_minor": 2
}
