{
 "cells": [
  {
   "cell_type": "code",
   "execution_count": 13,
   "metadata": {
    "dotnet_interactive": {
     "language": "csharp"
    },
    "polyglot_notebook": {
     "kernelName": "csharp"
    }
   },
   "outputs": [],
   "source": [
    "static int Dijkstra(Dictionary<string, Dictionary<string, int>> graph, string start, string end, out List<string> path)\n",
    "{\n",
    "    var distances = new Dictionary<string, int>();\n",
    "    var previous = new Dictionary<string, string>();\n",
    "    var priorityQueue = new SortedSet<(int distance, string vertex)>();\n",
    "\n",
    "    foreach (var vertex in graph.Keys)\n",
    "    {\n",
    "        distances[vertex] = int.MaxValue;\n",
    "        previous[vertex] = null;\n",
    "    }\n",
    "    distances[start] = 0;\n",
    "\n",
    "    priorityQueue.Add((0, start));\n",
    "\n",
    "    while (priorityQueue.Count != 0)\n",
    "    {\n",
    "        var (currentDistance, currentVertex) = priorityQueue.Min;\n",
    "        priorityQueue.Remove(priorityQueue.Min);\n",
    "\n",
    "        if (currentDistance > distances[currentVertex])\n",
    "            continue;\n",
    "\n",
    "        foreach (var neighbor in graph[currentVertex])\n",
    "        {\n",
    "            if (!graph.ContainsKey(neighbor.Key))\n",
    "            {\n",
    "                Console.WriteLine($\"Ошибка: Вершина {neighbor.Key} не найдена в графе.\");\n",
    "                path = null;\n",
    "                return -1;\n",
    "            }\n",
    "\n",
    "            int distance = currentDistance + neighbor.Value;\n",
    "\n",
    "            if (distance < distances[neighbor.Key])\n",
    "            {\n",
    "                priorityQueue.Remove((distances[neighbor.Key], neighbor.Key));\n",
    "                distances[neighbor.Key] = distance;\n",
    "                previous[neighbor.Key] = currentVertex;\n",
    "                priorityQueue.Add((distance, neighbor.Key));\n",
    "            }\n",
    "        }\n",
    "    }\n",
    "\n",
    "    path = new List<string>();\n",
    "    if (distances[end] == int.MaxValue)\n",
    "    {\n",
    "        return -1;\n",
    "    }\n",
    "\n",
    "    for (var at = end; at != null; at = previous[at])\n",
    "    {\n",
    "        path.Insert(0, at);\n",
    "    }\n",
    "\n",
    "    return distances[end];\n",
    "}\n",
    "\n"
   ]
  },
  {
   "cell_type": "code",
   "execution_count": 17,
   "metadata": {
    "dotnet_interactive": {
     "language": "csharp"
    },
    "polyglot_notebook": {
     "kernelName": "csharp"
    }
   },
   "outputs": [
    {
     "name": "stdout",
     "output_type": "stream",
     "text": [
      "Самый короткий путь из A в D = 20\n",
      "Путь: A -> C -> D\n"
     ]
    }
   ],
   "source": [
    "static Dictionary<string, Dictionary<string, int>> graph = new Dictionary<string, Dictionary<string, int>>()\n",
    "{\n",
    "    {\"A\", new Dictionary<string, int> {{\"B\", 7}, {\"C\", 9}, {\"F\", 14}}},\n",
    "    {\"B\", new Dictionary<string, int> {{\"A\", 7}, {\"C\", 10}, {\"D\", 15}}},\n",
    "    {\"C\", new Dictionary<string, int> {{\"A\", 9}, {\"B\", 10}, {\"D\", 11}, {\"F\", 2}}},\n",
    "    {\"D\", new Dictionary<string, int> {{\"B\", 15}, {\"C\", 11}, {\"E\", 6}}},\n",
    "    {\"E\", new Dictionary<string, int> {{\"D\", 6}, {\"F\", 9}}},\n",
    "    {\"F\", new Dictionary<string, int> {{\"A\", 14}, {\"C\", 2}, {\"E\", 9}}}\n",
    "};\n",
    "\n",
    "string start = \"A\";\n",
    "string end = \"D\";\n",
    "int shortestDistance = Dijkstra(graph, start, end, out List<string> path);\n",
    "if (shortestDistance != -1)\n",
    "{\n",
    "    Console.WriteLine($\"Самый короткий путь из {start} в {end} = {shortestDistance}\");\n",
    "    Console.WriteLine(\"Путь: \" + string.Join(\" -> \", path));\n",
    "}\n",
    "else\n",
    "{\n",
    "    Console.WriteLine($\"Невозможно добраться из {start} в {end}.\");\n",
    "}"
   ]
  }
 ],
 "metadata": {
  "kernelspec": {
   "display_name": ".NET (C#)",
   "language": "C#",
   "name": ".net-csharp"
  },
  "polyglot_notebook": {
   "kernelInfo": {
    "defaultKernelName": "csharp",
    "items": [
     {
      "aliases": [],
      "languageName": "csharp",
      "name": "csharp"
     }
    ]
   }
  }
 },
 "nbformat": 4,
 "nbformat_minor": 2
}
