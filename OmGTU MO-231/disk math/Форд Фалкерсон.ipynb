{
 "cells": [
  {
   "cell_type": "code",
   "execution_count": 1,
   "metadata": {
    "dotnet_interactive": {
     "language": "csharp"
    },
    "polyglot_notebook": {
     "kernelName": "csharp"
    }
   },
   "outputs": [],
   "source": [
    "using System;\n",
    "using System.Collections.Generic;\n",
    "\n",
    "class Graph\n",
    "{\n",
    "    private int[,] graph;\n",
    "    private int ROW;\n",
    "\n",
    "    public Graph(int[,] graph)\n",
    "    {\n",
    "        this.graph = graph;\n",
    "        this.ROW = graph.GetLength(0);\n",
    "    }\n",
    "\n",
    "    bool BFS(int s, int t, int[] parent)\n",
    "    {\n",
    "        bool[] visited = new bool[ROW];\n",
    "\n",
    "        Queue<int> queue = new Queue<int>();\n",
    "        queue.Enqueue(s);\n",
    "        visited[s] = true;\n",
    "        parent[s] = -1;\n",
    "\n",
    "        while (queue.Count > 0)\n",
    "        {\n",
    "            int u = queue.Dequeue();\n",
    "\n",
    "            for (int v = 0; v < ROW; v++)\n",
    "            {\n",
    "                if (visited[v] == false && graph[u, v] > 0)\n",
    "                {\n",
    "                    if (v == t)\n",
    "                    {\n",
    "                        parent[v] = u;\n",
    "                        return true;\n",
    "                    }\n",
    "                    queue.Enqueue(v);\n",
    "                    parent[v] = u;\n",
    "                    visited[v] = true;\n",
    "                }\n",
    "            }\n",
    "        }\n",
    "        return false;\n",
    "    }\n",
    "\n",
    "    public int FordFulkerson(int source, int sink)\n",
    "    {\n",
    "        int u, v;\n",
    "\n",
    "        int[] parent = new int[ROW];\n",
    "\n",
    "        int max_flow = 0;\n",
    "\n",
    "        while (BFS(source, sink, parent))\n",
    "        {\n",
    "            int path_flow = int.MaxValue;\n",
    "            for (v = sink; v != source; v = parent[v])\n",
    "            {\n",
    "                u = parent[v];\n",
    "                path_flow = Math.Min(path_flow, graph[u, v]);\n",
    "            }\n",
    "\n",
    "            for (v = sink; v != source; v = parent[v])\n",
    "            {\n",
    "                u = parent[v];\n",
    "                graph[u, v] -= path_flow;\n",
    "                graph[v, u] += path_flow;\n",
    "            }\n",
    "\n",
    "            max_flow += path_flow;\n",
    "        }\n",
    "\n",
    "        return max_flow;\n",
    "    }\n",
    "}\n",
    "\n",
    "class Program\n",
    "{\n",
    "    static void Main()\n",
    "    {\n",
    "        int[,] graph = new int[,]\n",
    "        {\n",
    "            {0, 20, 30, 10, 0},\n",
    "            {0, 0, 40, 0, 30},\n",
    "            {0, 0, 0, 10, 20},\n",
    "            {0, 0, 0, 0, 20},\n",
    "            {0, 0, 0, 0, 0}\n",
    "        };\n",
    "\n",
    "        Graph g = new Graph(graph);\n",
    "\n",
    "        int source = 0, sink = 4;\n",
    "\n",
    "        Console.WriteLine(\"The maximum possible flow is \" + g.FordFulkerson(source, sink));\n",
    "    }\n",
    "}\n"
   ]
  },
  {
   "cell_type": "code",
   "execution_count": 3,
   "metadata": {
    "dotnet_interactive": {
     "language": "csharp"
    },
    "polyglot_notebook": {
     "kernelName": "csharp"
    }
   },
   "outputs": [
    {
     "name": "stdout",
     "output_type": "stream",
     "text": [
      "Максимальный поток: 60\r\n"
     ]
    }
   ],
   "source": [
    "int[,] graph = new int[,]\n",
    "{\n",
    "    {0, 20, 30, 10, 0},\n",
    "    {0, 0, 40, 0, 30},\n",
    "    {0, 0, 0, 10, 20},\n",
    "    {0, 0, 0, 0, 20},\n",
    "    {0, 0, 0, 0, 0}\n",
    "};\n",
    "\n",
    "Graph g = new Graph(graph);\n",
    "\n",
    "int source = 0, sink = 4;\n",
    "\n",
    "Console.WriteLine(\"Максимальный поток: \" + g.FordFulkerson(source, sink));"
   ]
  }
 ],
 "metadata": {
  "kernelspec": {
   "display_name": ".NET (C#)",
   "language": "C#",
   "name": ".net-csharp"
  },
  "polyglot_notebook": {
   "kernelInfo": {
    "defaultKernelName": "csharp",
    "items": [
     {
      "aliases": [],
      "languageName": "csharp",
      "name": "csharp"
     }
    ]
   }
  }
 },
 "nbformat": 4,
 "nbformat_minor": 2
}
