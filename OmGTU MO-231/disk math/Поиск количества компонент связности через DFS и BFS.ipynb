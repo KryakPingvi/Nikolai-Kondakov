{
 "cells": [
  {
   "cell_type": "code",
   "execution_count": null,
   "metadata": {
    "dotnet_interactive": {
     "language": "csharp"
    },
    "polyglot_notebook": {
     "kernelName": "csharp"
    }
   },
   "outputs": [],
   "source": [
    "class Graph\n",
    "{\n",
    "    private int V;\n",
    "    private List<int[]> E; //список смежных вершин в неориентированном графе\n",
    "\n",
    "    public Graph(int V, int[][] E)\n",
    "    {\n",
    "        this.V = V;\n",
    "        this.E = new List<int[]>(E);\n",
    "    }\n",
    "\n",
    "    private void DFS(int v, bool[] worked)\n",
    "    {\n",
    "        worked[v] = true; //из за того что нумерацию вершин удобнее начинать с 1, нужно инициализировать массив обработанных вершин с длиной |V|+1, индекс 0 будет неиспользован, а цикл, проверяющий все вершины на обработанность должен идти от 1 до |V| включительно \n",
    "\n",
    "        foreach (int[] u in E) //первая найденная неотработанная вершина, которая смежная с ныне обрабатываемой, обрабатывается\n",
    "        {\n",
    "            if (u[0] == v && !worked[u[1]])\n",
    "            {\n",
    "                DFS(u[1], worked);\n",
    "            }\n",
    "            else if (u[1] == v && !worked[u[0]])\n",
    "            {\n",
    "                DFS(u[0], worked);\n",
    "            }\n",
    "        }\n",
    "    }\n",
    "\n",
    "    public int CountSvyazDFS()\n",
    "    {\n",
    "    bool[] worked = new bool[V+1];\n",
    "    int count = 0;\n",
    "\n",
    "    for (int v = 1; v <= V; v++)\n",
    "    {\n",
    "        if (!worked[v])\n",
    "        {\n",
    "            DFS(v, worked);\n",
    "            count++;\n",
    "        }\n",
    "    }\n",
    "\n",
    "    return count;\n",
    "    }\n",
    "\n",
    "\n",
    "\n",
    "    public int CountSvyazBFS()\n",
    "    {\n",
    "        bool[] worked = new bool[V + 1];\n",
    "        Queue<int> queue = new Queue<int>();\n",
    "        int count = 0;\n",
    "\n",
    "        for (int i = 1; i <= V; i++) //цикл обходов всего графа. Если после BFS остались необработанные вершины, BFS начинается от первой найденной, увеличивая число найденных компонент связности count на 1\n",
    "        {\n",
    "            if (!worked[i])\n",
    "            {\n",
    "                worked[i] = true;\n",
    "                queue.Enqueue(i);\n",
    "                count++;\n",
    "\n",
    "                while (queue.Count != 0)\n",
    "                {\n",
    "                    int s = queue.Dequeue();\n",
    "\n",
    "                    foreach (int[] u in E)\n",
    "                    {\n",
    "                        if (u[0] == s && !worked[u[1]])\n",
    "                        {\n",
    "                            worked[u[1]] = true;\n",
    "                            queue.Enqueue(u[1]);\n",
    "                        }\n",
    "                        else if (u[1] == s && !worked[u[0]])\n",
    "                        {\n",
    "                            worked[u[0]] = true;\n",
    "                            queue.Enqueue(u[0]);\n",
    "                        }\n",
    "                    }\n",
    "                }\n",
    "            }\n",
    "        }\n",
    "\n",
    "        return count;\n",
    "    }\n",
    "}"
   ]
  },
  {
   "cell_type": "code",
   "execution_count": null,
   "metadata": {
    "dotnet_interactive": {
     "language": "csharp"
    },
    "polyglot_notebook": {
     "kernelName": "csharp"
    }
   },
   "outputs": [],
   "source": [
    "\n",
    "int[][] E = new int[][]\n",
    "{\n",
    "    new int[] {1, 2},\n",
    "    new int[] {1, 3},\n",
    "    new int[] {2, 3},\n",
    "    new int[] {3, 1},\n",
    "    new int[] {4, 4}\n",
    "};\n",
    "\n",
    "Graph G = new Graph(4, E);\n",
    "\n",
    "Console.WriteLine(G.CountSvyazDFS());\n",
    "Console.WriteLine(G.CountSvyazBFS());"
   ]
  }
 ],
 "metadata": {
  "kernelspec": {
   "display_name": ".NET (C#)",
   "language": "C#",
   "name": ".net-csharp"
  },
  "polyglot_notebook": {
   "kernelInfo": {
    "defaultKernelName": "csharp",
    "items": [
     {
      "aliases": [],
      "languageName": "csharp",
      "name": "csharp"
     }
    ]
   }
  }
 },
 "nbformat": 4,
 "nbformat_minor": 2
}
